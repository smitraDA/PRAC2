{
 "cells": [
  {
   "cell_type": "markdown",
   "metadata": {},
   "source": [
    "## PART1-Eigenfaces(NP-PCA-Eigenface/RF & TF-PCA-Eigenface/RF based face recognition)"
   ]
  },
  {
   "cell_type": "code",
   "execution_count": 1,
   "metadata": {},
   "outputs": [],
   "source": [
    "from sklearn.datasets import fetch_lfw_people\n",
    "from sklearn.model_selection import train_test_split\n",
    "from sklearn.metrics import classification_report\n",
    "import numpy as np"
   ]
  },
  {
   "cell_type": "code",
   "execution_count": 29,
   "metadata": {
    "scrolled": true
   },
   "outputs": [
    {
     "name": "stdout",
     "output_type": "stream",
     "text": [
      "Requirement already satisfied: scikit-learn in c:\\programdata\\anaconda3\\lib\\site-packages (0.22.1)\n",
      "Requirement already satisfied: scipy in c:\\programdata\\anaconda3\\lib\\site-packages (1.4.1)\n",
      "Requirement already satisfied: matplotlib in c:\\programdata\\anaconda3\\lib\\site-packages (3.1.3)\n",
      "Requirement already satisfied: tensorflow-gpu in c:\\programdata\\anaconda3\\lib\\site-packages (2.3.0)\n",
      "Requirement already satisfied: joblib>=0.11 in c:\\programdata\\anaconda3\\lib\\site-packages (from scikit-learn) (0.14.1)\n",
      "Requirement already satisfied: numpy>=1.11.0 in c:\\programdata\\anaconda3\\lib\\site-packages (from scikit-learn) (1.18.1)\n",
      "Requirement already satisfied: python-dateutil>=2.1 in c:\\programdata\\anaconda3\\lib\\site-packages (from matplotlib) (2.8.1)\n",
      "Requirement already satisfied: pyparsing!=2.0.4,!=2.1.2,!=2.1.6,>=2.0.1 in c:\\programdata\\anaconda3\\lib\\site-packages (from matplotlib) (2.4.6)\n",
      "Requirement already satisfied: cycler>=0.10 in c:\\programdata\\anaconda3\\lib\\site-packages (from matplotlib) (0.10.0)\n",
      "Requirement already satisfied: kiwisolver>=1.0.1 in c:\\programdata\\anaconda3\\lib\\site-packages (from matplotlib) (1.1.0)\n",
      "Requirement already satisfied: google-pasta>=0.1.8 in c:\\programdata\\anaconda3\\lib\\site-packages (from tensorflow-gpu) (0.2.0)\n",
      "Requirement already satisfied: h5py<2.11.0,>=2.10.0 in c:\\programdata\\anaconda3\\lib\\site-packages (from tensorflow-gpu) (2.10.0)\n",
      "Requirement already satisfied: opt-einsum>=2.3.2 in c:\\programdata\\anaconda3\\lib\\site-packages (from tensorflow-gpu) (3.3.0)\n",
      "Requirement already satisfied: keras-preprocessing<1.2,>=1.1.1 in c:\\programdata\\anaconda3\\lib\\site-packages (from tensorflow-gpu) (1.1.2)\n",
      "Requirement already satisfied: tensorflow-gpu-estimator<2.4.0,>=2.3.0 in c:\\programdata\\anaconda3\\lib\\site-packages (from tensorflow-gpu) (2.3.0)\n",
      "Requirement already satisfied: termcolor>=1.1.0 in c:\\programdata\\anaconda3\\lib\\site-packages (from tensorflow-gpu) (1.1.0)\n",
      "Requirement already satisfied: wheel>=0.26 in c:\\programdata\\anaconda3\\lib\\site-packages (from tensorflow-gpu) (0.34.2)\n",
      "Requirement already satisfied: six>=1.12.0 in c:\\programdata\\anaconda3\\lib\\site-packages (from tensorflow-gpu) (1.14.0)\n",
      "Requirement already satisfied: gast==0.3.3 in c:\\programdata\\anaconda3\\lib\\site-packages (from tensorflow-gpu) (0.3.3)\n",
      "Requirement already satisfied: absl-py>=0.7.0 in c:\\programdata\\anaconda3\\lib\\site-packages (from tensorflow-gpu) (0.10.0)\n",
      "Requirement already satisfied: wrapt>=1.11.1 in c:\\programdata\\anaconda3\\lib\\site-packages (from tensorflow-gpu) (1.11.2)\n",
      "Requirement already satisfied: tensorboard<3,>=2.3.0 in c:\\programdata\\anaconda3\\lib\\site-packages (from tensorflow-gpu) (2.3.0)\n",
      "Requirement already satisfied: astunparse==1.6.3 in c:\\programdata\\anaconda3\\lib\\site-packages (from tensorflow-gpu) (1.6.3)\n",
      "Requirement already satisfied: protobuf>=3.9.2 in c:\\programdata\\anaconda3\\lib\\site-packages (from tensorflow-gpu) (3.13.0)\n",
      "Requirement already satisfied: grpcio>=1.8.6 in c:\\programdata\\anaconda3\\lib\\site-packages (from tensorflow-gpu) (1.32.0)\n",
      "Requirement already satisfied: setuptools in c:\\programdata\\anaconda3\\lib\\site-packages (from kiwisolver>=1.0.1->matplotlib) (45.2.0.post20200210)\n",
      "Requirement already satisfied: requests<3,>=2.21.0 in c:\\programdata\\anaconda3\\lib\\site-packages (from tensorboard<3,>=2.3.0->tensorflow-gpu) (2.22.0)\n",
      "Requirement already satisfied: markdown>=2.6.8 in c:\\programdata\\anaconda3\\lib\\site-packages (from tensorboard<3,>=2.3.0->tensorflow-gpu) (3.2.2)\n",
      "Requirement already satisfied: werkzeug>=0.11.15 in c:\\programdata\\anaconda3\\lib\\site-packages (from tensorboard<3,>=2.3.0->tensorflow-gpu) (1.0.0)\n",
      "Requirement already satisfied: google-auth-oauthlib<0.5,>=0.4.1 in c:\\programdata\\anaconda3\\lib\\site-packages (from tensorboard<3,>=2.3.0->tensorflow-gpu) (0.4.1)\n",
      "Requirement already satisfied: tensorboard-plugin-wit>=1.6.0 in c:\\programdata\\anaconda3\\lib\\site-packages (from tensorboard<3,>=2.3.0->tensorflow-gpu) (1.7.0)\n",
      "Requirement already satisfied: google-auth<2,>=1.6.3 in c:\\programdata\\anaconda3\\lib\\site-packages (from tensorboard<3,>=2.3.0->tensorflow-gpu) (1.21.3)\n",
      "Requirement already satisfied: certifi>=2017.4.17 in c:\\programdata\\anaconda3\\lib\\site-packages (from requests<3,>=2.21.0->tensorboard<3,>=2.3.0->tensorflow-gpu) (2019.11.28)\n",
      "Requirement already satisfied: urllib3!=1.25.0,!=1.25.1,<1.26,>=1.21.1 in c:\\programdata\\anaconda3\\lib\\site-packages (from requests<3,>=2.21.0->tensorboard<3,>=2.3.0->tensorflow-gpu) (1.25.8)\n",
      "Requirement already satisfied: chardet<3.1.0,>=3.0.2 in c:\\programdata\\anaconda3\\lib\\site-packages (from requests<3,>=2.21.0->tensorboard<3,>=2.3.0->tensorflow-gpu) (3.0.4)\n",
      "Requirement already satisfied: idna<2.9,>=2.5 in c:\\programdata\\anaconda3\\lib\\site-packages (from requests<3,>=2.21.0->tensorboard<3,>=2.3.0->tensorflow-gpu) (2.8)\n",
      "Requirement already satisfied: importlib-metadata; python_version < \"3.8\" in c:\\programdata\\anaconda3\\lib\\site-packages (from markdown>=2.6.8->tensorboard<3,>=2.3.0->tensorflow-gpu) (1.5.0)\n",
      "Requirement already satisfied: requests-oauthlib>=0.7.0 in c:\\programdata\\anaconda3\\lib\\site-packages (from google-auth-oauthlib<0.5,>=0.4.1->tensorboard<3,>=2.3.0->tensorflow-gpu) (1.3.0)\n",
      "Requirement already satisfied: cachetools<5.0,>=2.0.0 in c:\\programdata\\anaconda3\\lib\\site-packages (from google-auth<2,>=1.6.3->tensorboard<3,>=2.3.0->tensorflow-gpu) (4.1.1)\n",
      "Requirement already satisfied: pyasn1-modules>=0.2.1 in c:\\programdata\\anaconda3\\lib\\site-packages (from google-auth<2,>=1.6.3->tensorboard<3,>=2.3.0->tensorflow-gpu) (0.2.8)\n",
      "Requirement already satisfied: rsa<5,>=3.1.4; python_version >= \"3.5\" in c:\\programdata\\anaconda3\\lib\\site-packages (from google-auth<2,>=1.6.3->tensorboard<3,>=2.3.0->tensorflow-gpu) (4.6)\n",
      "Requirement already satisfied: zipp>=0.5 in c:\\programdata\\anaconda3\\lib\\site-packages (from importlib-metadata; python_version < \"3.8\"->markdown>=2.6.8->tensorboard<3,>=2.3.0->tensorflow-gpu) (2.2.0)\n",
      "Requirement already satisfied: oauthlib>=3.0.0 in c:\\programdata\\anaconda3\\lib\\site-packages (from requests-oauthlib>=0.7.0->google-auth-oauthlib<0.5,>=0.4.1->tensorboard<3,>=2.3.0->tensorflow-gpu) (3.1.0)\n",
      "Requirement already satisfied: pyasn1<0.5.0,>=0.4.6 in c:\\programdata\\anaconda3\\lib\\site-packages (from pyasn1-modules>=0.2.1->google-auth<2,>=1.6.3->tensorboard<3,>=2.3.0->tensorflow-gpu) (0.4.8)\n",
      "Note: you may need to restart the kernel to use updated packages.\n"
     ]
    }
   ],
   "source": [
    "pip install scikit-learn scipy matplotlib tensorflow-gpu\n"
   ]
  },
  {
   "cell_type": "code",
   "execution_count": 3,
   "metadata": {},
   "outputs": [],
   "source": [
    "#Loading the Labeled Faces in the Wild dataset\n",
    "lfw_people = fetch_lfw_people(min_faces_per_person = 70, resize = 0.4)"
   ]
  },
  {
   "cell_type": "code",
   "execution_count": 4,
   "metadata": {},
   "outputs": [
    {
     "data": {
      "text/plain": [
       "(1288, 50, 37)"
      ]
     },
     "execution_count": 4,
     "metadata": {},
     "output_type": "execute_result"
    }
   ],
   "source": [
    "# Storing the number of images, height and width of each image\n",
    "n_samples, h, w = lfw_people.images.shape\n",
    "n_samples, h, w"
   ]
  },
  {
   "cell_type": "code",
   "execution_count": 5,
   "metadata": {},
   "outputs": [
    {
     "data": {
      "text/plain": [
       "1850"
      ]
     },
     "execution_count": 5,
     "metadata": {},
     "output_type": "execute_result"
    }
   ],
   "source": [
    "# Extracting the number of features in the LFW data set\n",
    "X = lfw_people.data\n",
    "n_features = X.shape[1]\n",
    "n_features"
   ]
  },
  {
   "cell_type": "code",
   "execution_count": 6,
   "metadata": {},
   "outputs": [
    {
     "data": {
      "text/plain": [
       "7"
      ]
     },
     "execution_count": 6,
     "metadata": {},
     "output_type": "execute_result"
    }
   ],
   "source": [
    "# Finding the number of classes in the LFW data set\n",
    "y = lfw_people.target\n",
    "\n",
    "target_names = lfw_people.target_names\n",
    "n_classes = target_names.shape[0]\n",
    "n_classes"
   ]
  },
  {
   "cell_type": "code",
   "execution_count": 7,
   "metadata": {},
   "outputs": [
    {
     "name": "stdout",
     "output_type": "stream",
     "text": [
      "Total dataset size:\n",
      "n_samples: 1288\n",
      "n_features: 1850\n",
      "n_classes: 7\n"
     ]
    }
   ],
   "source": [
    "print(\"Total dataset size:\")\n",
    "print(\"n_samples: %d\" % n_samples)\n",
    "print(\"n_features: %d\" % n_features)\n",
    "print(\"n_classes: %d\" % n_classes)"
   ]
  },
  {
   "cell_type": "code",
   "execution_count": 8,
   "metadata": {},
   "outputs": [],
   "source": [
    "#It is important in machine learning to split the data accordingly into training and testing sets to\n",
    "#avoid contamination of the model. Ideally, you should also have a validation set.\n",
    "# Split into a training set and a test set using a stratified k fold\n",
    "\n",
    "X_train, X_test, y_train, y_test = train_test_split(X, y, test_size=0.25, random_state=42)"
   ]
  },
  {
   "cell_type": "code",
   "execution_count": 9,
   "metadata": {},
   "outputs": [],
   "source": [
    "# Compute a PCA (eigenfaces) on the face dataset (treated as unlabeled\n",
    "# dataset): unsupervised feature extraction / dimensionality reduction\n",
    "\n",
    "n_components = 150"
   ]
  },
  {
   "cell_type": "code",
   "execution_count": 10,
   "metadata": {},
   "outputs": [],
   "source": [
    "#Compute the PCA via eigen-decomposition of the data matrix X after the mean of the training set\n",
    "#is removed. This results in a model with variations from the mean. We also transform the training and\n",
    "#testing data into ’face space’, i.e. the learned sub space of the eigen-faces.\n",
    "\n"
   ]
  },
  {
   "cell_type": "code",
   "execution_count": 11,
   "metadata": {},
   "outputs": [],
   "source": [
    "# Center data\n",
    "mean = np.mean(X_train, axis=0)\n",
    "X_train -= mean\n",
    "X_test -= mean"
   ]
  },
  {
   "cell_type": "code",
   "execution_count": 12,
   "metadata": {},
   "outputs": [
    {
     "name": "stdout",
     "output_type": "stream",
     "text": [
      "(966, 150)\n",
      "(322, 150)\n"
     ]
    }
   ],
   "source": [
    "#Eigen-decomposition\n",
    "U, S, V = np.linalg.svd(X_train, full_matrices=False)\n",
    "components = V[:n_components]\n",
    "eigenfaces = components.reshape((n_components, h, w))\n",
    "#project into PCA subspace\n",
    "X_transformed = np.dot(X_train, components.T)\n",
    "print(X_transformed.shape)\n",
    "X_test_transformed = np.dot(X_test, components.T)\n",
    "print(X_test_transformed.shape)"
   ]
  },
  {
   "cell_type": "code",
   "execution_count": 13,
   "metadata": {},
   "outputs": [],
   "source": [
    "# Finally, plot the resulting eigen-vectors of the face PCA model, AKA the eigenfaces\n",
    "import matplotlib.pyplot as plt"
   ]
  },
  {
   "cell_type": "code",
   "execution_count": 14,
   "metadata": {},
   "outputs": [],
   "source": [
    "# Qualitative evaluation of the predictions using matplotlib"
   ]
  },
  {
   "cell_type": "code",
   "execution_count": 15,
   "metadata": {
    "scrolled": false
   },
   "outputs": [
    {
     "data": {
      "image/png": "[encoded data removed]",
      "text/plain": [
       "<Figure size 518.4x518.4 with 12 Axes>"
      ]
     },
     "metadata": {},
     "output_type": "display_data"
    }
   ],
   "source": [
    "def plot_gallery(images, titles, h, w, n_row=3, n_col=4):\n",
    "    \"\"\"Helper function to plot a gallery of portraits\"\"\"\n",
    "    plt.figure(figsize=(1.8 * n_col, 2.4 * n_row))\n",
    "    plt.subplots_adjust(bottom=0, left=.01, right=.99, top=.90, hspace=.35)\n",
    "    for i in range(n_row * n_col):\n",
    "        plt.subplot(n_row, n_col, i+1)\n",
    "        plt.imshow(images[i].reshape((h, w)), cmap=plt.cm.gray)\n",
    "        plt.title(titles[i], size=12)\n",
    "        plt.xticks(())\n",
    "        plt.yticks(())\n",
    "\n",
    "eigenface_titles = [\"eigenface %d\" % i for i in range(eigenfaces.shape[0])]\n",
    "plot_gallery(eigenfaces, eigenface_titles, h, w)\n",
    "\n",
    "plt.show()"
   ]
  },
  {
   "cell_type": "code",
   "execution_count": 16,
   "metadata": {},
   "outputs": [],
   "source": [
    "# To evaluate the performance of the dimensionality reduction via a compactness plot"
   ]
  },
  {
   "cell_type": "code",
   "execution_count": 17,
   "metadata": {},
   "outputs": [
    {
     "name": "stdout",
     "output_type": "stream",
     "text": [
      "(966,)\n"
     ]
    },
    {
     "data": {
      "image/png": "[encoded data removed]",
      "text/plain": [
       "<Figure size 432x288 with 1 Axes>"
      ]
     },
     "metadata": {
      "needs_background": "light"
     },
     "output_type": "display_data"
    }
   ],
   "source": [
    "explained_variance = (S ** 2) / (n_samples - 1)\n",
    "total_var = explained_variance.sum()\n",
    "explained_variance_ratio = explained_variance / total_var\n",
    "ratio_cumsum = np.cumsum(explained_variance_ratio)\n",
    "print(ratio_cumsum.shape)\n",
    "eigenvalueCount = np.arange(n_components)\n",
    "plt.plot(eigenvalueCount, ratio_cumsum[:n_components])\n",
    "plt.title('Compactness')\n",
    "plt.show()"
   ]
  },
  {
   "cell_type": "code",
   "execution_count": 18,
   "metadata": {},
   "outputs": [
    {
     "data": {
      "text/plain": [
       "(966, 150)"
      ]
     },
     "execution_count": 18,
     "metadata": {},
     "output_type": "execute_result"
    }
   ],
   "source": [
    "# To Using the PCA ’face space’ as features and build a random forest classifier to classify the faces according\n",
    "#to the labels. We then view its classification performance.\n",
    "\n",
    "X_transformed.shape\n"
   ]
  },
  {
   "cell_type": "code",
   "execution_count": 19,
   "metadata": {},
   "outputs": [
    {
     "name": "stdout",
     "output_type": "stream",
     "text": [
      "Total Testing 322\n",
      "Predictions [3 3 1 3 4 3 3 1 3 3 3 6 3 3 3 3 6 3 3 4 1 1 3 3 3 3 3 3 3 3 3 3 3 1 3 3 3\n",
      " 3 3 1 3 1 3 1 3 3 3 3 4 3 3 3 3 3 1 2 1 3 4 3 6 1 6 6 3 4 1 4 1 2 4 6 3 3\n",
      " 3 3 3 1 1 3 4 3 3 3 3 3 3 3 3 3 3 3 3 1 1 3 3 1 2 6 3 3 3 3 3 3 3 3 3 1 3\n",
      " 1 6 3 3 3 1 4 1 3 1 3 3 1 3 4 4 3 1 3 6 6 6 3 3 6 3 3 1 3 1 3 3 1 3 5 1 3\n",
      " 6 1 1 1 1 3 3 3 6 3 3 3 6 5 5 1 3 5 5 1 3 3 1 3 3 1 3 3 3 2 2 3 3 3 3 3 3\n",
      " 3 3 3 3 2 4 3 2 3 6 3 3 3 3 6 3 3 3 2 3 3 6 2 3 2 3 5 6 3 3 6 3 2 3 3 3 3\n",
      " 3 1 1 3 3 3 1 3 3 3 3 3 3 1 1 3 3 3 3 4 3 3 3 3 3 3 3 4 4 3 3 4 3 4 3 1 3\n",
      " 3 3 3 3 1 3 5 6 1 6 1 1 3 3 3 6 3 1 3 3 3 1 1 3 3 3 1 3 3 3 4 3 3 5 3 3 1\n",
      " 3 3 3 3 3 6 3 2 1 3 1 3 1 3 3 3 2 3 3 3 3 1 3 3 4 3]\n",
      "Which Correct: [ True  True False  True False  True False  True  True  True  True False\n",
      "  True False  True  True False  True  True  True  True False  True False\n",
      " False False False  True  True  True False  True  True False  True  True\n",
      "  True  True  True  True  True  True  True  True False False False  True\n",
      " False  True  True  True False  True False  True  True  True False  True\n",
      " False  True False False  True False False  True  True False False  True\n",
      "  True  True  True False False False False False False False False  True\n",
      "  True  True  True  True  True  True  True False  True False  True False\n",
      " False  True False  True  True False  True False  True  True  True  True\n",
      "  True  True False  True False  True  True False False  True  True  True\n",
      "  True  True  True False  True  True  True  True  True False  True  True\n",
      "  True False False False  True  True  True False False False False  True\n",
      "  True  True  True  True  True  True False  True  True  True  True  True\n",
      "  True False False  True  True  True  True  True  True  True  True  True\n",
      " False  True  True False False  True False False  True  True  True False\n",
      "  True  True  True False  True  True  True  True  True  True False False\n",
      " False False  True  True  True False  True  True  True False False  True\n",
      "  True  True  True  True False False  True  True False  True  True False\n",
      "  True False False False  True  True False  True False  True  True  True\n",
      "  True  True  True  True False False  True  True False  True  True  True\n",
      "  True  True False False  True False  True  True  True False  True  True\n",
      " False False  True  True False  True False False False  True False  True\n",
      "  True False False  True False False  True False  True  True  True  True\n",
      " False  True  True  True  True False  True  True False False  True  True\n",
      "  True  True False  True  True False  True False False False  True False\n",
      "  True  True False  True  True  True  True  True  True  True  True  True\n",
      " False False  True  True False  True  True  True False False]\n",
      "Total Correct: 206\n",
      "Accuracy: 0.639751552795031\n",
      "                   precision    recall  f1-score   support\n",
      "\n",
      "     Ariel Sharon       0.00      0.00      0.00        13\n",
      "     Colin Powell       0.66      0.62      0.64        60\n",
      "  Donald Rumsfeld       0.54      0.26      0.35        27\n",
      "    George W Bush       0.66      0.91      0.76       146\n",
      "Gerhard Schroeder       0.47      0.36      0.41        25\n",
      "      Hugo Chavez       0.88      0.47      0.61        15\n",
      "       Tony Blair       0.54      0.36      0.43        36\n",
      "\n",
      "         accuracy                           0.64       322\n",
      "        macro avg       0.54      0.42      0.46       322\n",
      "     weighted avg       0.60      0.64      0.60       322\n",
      "\n"
     ]
    },
    {
     "name": "stderr",
     "output_type": "stream",
     "text": [
      "C:\\ProgramData\\Anaconda3\\lib\\site-packages\\sklearn\\metrics\\_classification.py:1272: UndefinedMetricWarning: Precision and F-score are ill-defined and being set to 0.0 in labels with no predicted samples. Use `zero_division` parameter to control this behavior.\n",
      "  _warn_prf(average, modifier, msg_start, len(result))\n"
     ]
    }
   ],
   "source": [
    "from sklearn.ensemble import RandomForestClassifier\n",
    "from sklearn.model_selection import cross_val_score\n",
    "#build random forest\n",
    "estimator = RandomForestClassifier(n_estimators=150, max_depth=15, max_features=150)\n",
    "estimator.fit(X_transformed, y_train) #expects X as [n_samples, n_features]\n",
    "predictions = estimator.predict(X_test_transformed)\n",
    "correct = predictions==y_test\n",
    "total_test = len(X_test_transformed)\n",
    "#print(\"Gnd Truth:\", y_test)\n",
    "print(\"Total Testing\", total_test)\n",
    "print(\"Predictions\", predictions)\n",
    "print(\"Which Correct:\",correct)\n",
    "print(\"Total Correct:\",np.sum(correct))\n",
    "print(\"Accuracy:\",np.sum(correct)/total_test)\n",
    "print(classification_report(y_test, predictions, target_names=target_names))"
   ]
  },
  {
   "cell_type": "code",
   "execution_count": 20,
   "metadata": {},
   "outputs": [],
   "source": [
    "# Precision(quality)= TP/TP+FP,Recall(remember some are missed !)= TP/TP+FN. Both are the highest the better."
   ]
  },
  {
   "cell_type": "code",
   "execution_count": 21,
   "metadata": {},
   "outputs": [],
   "source": [
    "# PCA with TF(instead of NP)BAsed Face recognition"
   ]
  },
  {
   "cell_type": "code",
   "execution_count": 30,
   "metadata": {},
   "outputs": [],
   "source": [
    "import tensorflow as tf"
   ]
  },
  {
   "cell_type": "code",
   "execution_count": 31,
   "metadata": {},
   "outputs": [],
   "source": [
    "from tensorflow import keras\n",
    "from tensorflow.keras import layers\n",
    "from tensorflow.keras.models import Sequential"
   ]
  },
  {
   "cell_type": "markdown",
   "metadata": {},
   "source": [
    "#The functionality of numpy.mean and tensorflow.reduce_mean are the same.c = np.array([[3.,4], [5.,6], [6.,7]])\n",
    "#print(np.mean(c,1))\n",
    "\n",
    "#Mean = tf.reduce_mean(c,1)\n",
    "#with tf.Session() as sess:\n",
    "    #result = sess.run(Mean)\n",
    "    #print(result)\n",
    "#Output\n",
    "\n",
    "#[ 3.5  5.5  6.5]\n",
    "#[ 3.5  5.5  6.5]\n",
    "#Here you can see that when axis(numpy) or reduction_indices(tensorflow) is 1, it computes mean across (3,4) and (5,6) and (6,7), so 1 defines across which axis the mean is computed. When it is 0, the mean is computed across(3,5,6) and (4,6,7), and so on. I hope you get the idea."
   ]
  },
  {
   "cell_type": "code",
   "execution_count": 32,
   "metadata": {},
   "outputs": [],
   "source": [
    "# Center data(normalize by calculating the mean and removing the mean)\n",
    "mean_train = tf.reduce_mean(X_train, axis=0)\n",
    "X_train -= mean_train\n",
    "\n",
    "mean_test = tf.reduce_mean(X_test, axis=0)\n",
    "X_test -= mean_test"
   ]
  },
  {
   "cell_type": "code",
   "execution_count": 33,
   "metadata": {},
   "outputs": [],
   "source": [
    "# Implementing singular value decomposition on centered train and test LFW data sets using tensorflow\n",
    "s_train, u_train, v_train = tf.linalg.svd(X_train,full_matrices=False)\n",
    "s_test, u_test, v_test = tf.linalg.svd(X_test,full_matrices=False)"
   ]
  },
  {
   "cell_type": "code",
   "execution_count": 34,
   "metadata": {},
   "outputs": [],
   "source": [
    "# Right singular vector in tensorflow needs to be applied tf.linalg.adjoint to extract the top 150 principal components\n",
    "v_train_adj = tf.linalg.adjoint(v_train)\n",
    "components_train = v_train_adj[:n_components]"
   ]
  },
  {
   "cell_type": "code",
   "execution_count": 35,
   "metadata": {},
   "outputs": [
    {
     "data": {
      "text/plain": [
       "<tf.Tensor: shape=(150, 1850), dtype=float32, numpy=\n",
       "array([[ 0.00685197,  0.00752681,  0.0091891 , ...,  0.01433782,\n",
       "         0.01294187,  0.0118829 ],\n",
       "       [-0.02304097, -0.02155209, -0.02275383, ...,  0.04400193,\n",
       "         0.04318587,  0.04226129],\n",
       "       [ 0.0218786 ,  0.02016293,  0.01900923, ...,  0.05723419,\n",
       "         0.05080727,  0.04725164],\n",
       "       ...,\n",
       "       [-0.03702602, -0.00135707,  0.02081678, ...,  0.00062663,\n",
       "        -0.0023964 ,  0.03854249],\n",
       "       [-0.03179937, -0.00068126, -0.01316613, ..., -0.02693923,\n",
       "         0.02580534,  0.03387189],\n",
       "       [-0.08361612, -0.01796044,  0.04106689, ..., -0.00551719,\n",
       "        -0.02022248, -0.04489413]], dtype=float32)>"
      ]
     },
     "execution_count": 35,
     "metadata": {},
     "output_type": "execute_result"
    }
   ],
   "source": [
    "components_train"
   ]
  },
  {
   "cell_type": "code",
   "execution_count": 36,
   "metadata": {},
   "outputs": [],
   "source": [
    "eigenfaces_train = tf.reshape(components_train,[n_components, h, w])"
   ]
  },
  {
   "cell_type": "code",
   "execution_count": 37,
   "metadata": {},
   "outputs": [
    {
     "data": {
      "text/plain": [
       "<tf.Tensor: shape=(150, 50, 37), dtype=float32, numpy=\n",
       "array([[[ 6.8519711e-03,  7.5268149e-03,  9.1890991e-03, ...,\n",
       "          9.9253412e-03,  9.2412522e-03,  9.5519628e-03],\n",
       "        [ 7.2693331e-03,  8.4151439e-03,  1.0821561e-02, ...,\n",
       "          1.0395856e-02,  9.4533404e-03,  1.0037364e-02],\n",
       "        [ 8.2802931e-03,  9.9970540e-03,  1.2791979e-02, ...,\n",
       "          1.1476463e-02,  9.9721039e-03,  1.0271496e-02],\n",
       "        ...,\n",
       "        [ 3.5781297e-03,  3.6091818e-03,  6.0094004e-03, ...,\n",
       "          1.6046438e-02,  1.4477272e-02,  1.3490888e-02],\n",
       "        [ 5.2311514e-03,  5.1138457e-03,  6.1579761e-03, ...,\n",
       "          1.5562141e-02,  1.3553128e-02,  1.2519462e-02],\n",
       "        [ 6.1634127e-03,  6.2009688e-03,  6.6663055e-03, ...,\n",
       "          1.4337822e-02,  1.2941875e-02,  1.1882900e-02]],\n",
       "\n",
       "       [[-2.3040965e-02, -2.1552086e-02, -2.2753835e-02, ...,\n",
       "          2.1021990e-02,  2.1640323e-02,  2.1283414e-02],\n",
       "        [-2.2700377e-02, -2.1977289e-02, -2.4531083e-02, ...,\n",
       "          2.1732096e-02,  2.2277275e-02,  2.1863483e-02],\n",
       "        [-2.2965947e-02, -2.3334727e-02, -2.6437262e-02, ...,\n",
       "          2.2815673e-02,  2.3044240e-02,  2.2972908e-02],\n",
       "        ...,\n",
       "        [-3.4286112e-02, -3.7805587e-02, -4.0050142e-02, ...,\n",
       "          4.4623103e-02,  4.3371014e-02,  4.0695973e-02],\n",
       "        [-3.3508763e-02, -3.7976168e-02, -4.0388223e-02, ...,\n",
       "          4.4691548e-02,  4.2815406e-02,  4.1271660e-02],\n",
       "        [-3.2959495e-02, -3.7307456e-02, -4.0655479e-02, ...,\n",
       "          4.4001933e-02,  4.3185871e-02,  4.2261291e-02]],\n",
       "\n",
       "       [[ 2.1878600e-02,  2.0162925e-02,  1.9009233e-02, ...,\n",
       "          2.5071120e-02,  2.7327014e-02,  2.9891331e-02],\n",
       "        [ 2.1749405e-02,  2.0379178e-02,  1.8862091e-02, ...,\n",
       "          2.4119014e-02,  2.6497656e-02,  2.8762452e-02],\n",
       "        [ 2.1525988e-02,  1.9713506e-02,  1.8253481e-02, ...,\n",
       "          2.3158260e-02,  2.5358051e-02,  2.7298825e-02],\n",
       "        ...,\n",
       "        [ 6.9716483e-02,  7.3777638e-02,  7.9446144e-02, ...,\n",
       "          5.8904707e-02,  5.5647552e-02,  5.1916841e-02],\n",
       "        [ 6.2532291e-02,  6.7816198e-02,  7.4263483e-02, ...,\n",
       "          5.8549881e-02,  5.3719472e-02,  4.9053408e-02],\n",
       "        [ 5.6493431e-02,  6.2453937e-02,  6.8251647e-02, ...,\n",
       "          5.7234190e-02,  5.0807275e-02,  4.7251642e-02]],\n",
       "\n",
       "       ...,\n",
       "\n",
       "       [[-3.7026018e-02, -1.3570692e-03,  2.0816775e-02, ...,\n",
       "         -6.1836559e-03, -1.1149382e-02, -2.6628209e-02],\n",
       "        [-8.9842947e-03,  2.0644566e-02,  2.0011762e-02, ...,\n",
       "          1.7149241e-03,  6.6779903e-06, -9.8142037e-03],\n",
       "        [ 4.0364820e-03,  2.1732740e-02,  3.3546824e-03, ...,\n",
       "          6.6299806e-03,  4.7951224e-03, -4.5097087e-04],\n",
       "        ...,\n",
       "        [ 1.0019852e-03,  2.2983465e-02,  4.2822107e-04, ...,\n",
       "          1.9892812e-02, -8.4592607e-03, -6.3906424e-03],\n",
       "        [ 7.9252375e-03,  5.9488001e-03, -4.0619548e-02, ...,\n",
       "          1.7779300e-02, -1.2992005e-02,  7.2651682e-03],\n",
       "        [ 2.1046411e-02,  2.2640429e-02, -2.0257894e-02, ...,\n",
       "          6.2663108e-04, -2.3964010e-03,  3.8542494e-02]],\n",
       "\n",
       "       [[-3.1799372e-02, -6.8126339e-04, -1.3166126e-02, ...,\n",
       "         -2.6510559e-02, -2.1585675e-02,  5.3394376e-03],\n",
       "        [-2.4124829e-02, -5.1908153e-03, -1.7752737e-02, ...,\n",
       "         -4.8434003e-03, -9.9397934e-05,  1.4701853e-02],\n",
       "        [-2.0582625e-04,  5.0457288e-03,  3.3672235e-03, ...,\n",
       "         -4.6625617e-03,  1.5844803e-02,  2.0347508e-02],\n",
       "        ...,\n",
       "        [-3.7558984e-02,  7.9950821e-03, -1.4259983e-03, ...,\n",
       "          3.0240749e-03, -2.2258181e-02, -2.1638874e-02],\n",
       "        [-3.8781557e-03,  2.5422405e-02, -2.8582967e-03, ...,\n",
       "         -1.8114213e-02,  8.3151562e-03,  3.2843735e-02],\n",
       "        [ 2.5218714e-02,  3.8854633e-02,  1.1340180e-02, ...,\n",
       "         -2.6939234e-02,  2.5805339e-02,  3.3871885e-02]],\n",
       "\n",
       "       [[-8.3616115e-02, -1.7960440e-02,  4.1066889e-02, ...,\n",
       "         -1.0534054e-02, -3.2659747e-02, -4.6447247e-02],\n",
       "        [-6.4058073e-02,  1.8377613e-02,  5.1336966e-02, ...,\n",
       "          6.4516384e-03, -1.7983329e-02, -2.8155524e-02],\n",
       "        [-2.2858849e-02,  4.9531169e-02,  3.0916015e-02, ...,\n",
       "          1.6176347e-02,  1.9825511e-03, -1.3681885e-02],\n",
       "        ...,\n",
       "        [ 6.8951107e-04,  1.8675810e-02, -1.0849206e-02, ...,\n",
       "          8.6666923e-03,  1.9460065e-02, -7.9106558e-03],\n",
       "        [ 8.5496278e-03,  2.4096483e-02, -1.2917352e-02, ...,\n",
       "          5.4538776e-03, -3.9111483e-03, -3.2213863e-02],\n",
       "        [-4.4379551e-03,  5.7481145e-03, -2.1067541e-02, ...,\n",
       "         -5.5171857e-03, -2.0222479e-02, -4.4894129e-02]]], dtype=float32)>"
      ]
     },
     "execution_count": 37,
     "metadata": {},
     "output_type": "execute_result"
    }
   ],
   "source": [
    "eigenfaces_train"
   ]
  },
  {
   "cell_type": "code",
   "execution_count": 38,
   "metadata": {},
   "outputs": [
    {
     "name": "stdout",
     "output_type": "stream",
     "text": [
      "tf.Tensor(\n",
      "[[1469.7539     654.5976     911.3459    ...  -19.69845     22.25324\n",
      "   -16.353764 ]\n",
      " [-935.4905    -371.0772     228.87262   ...  -26.192247    -5.507422\n",
      "    15.723273 ]\n",
      " [ 539.0072      12.349937  -102.79539   ...   -2.5395231  -17.199118\n",
      "   -29.282846 ]\n",
      " ...\n",
      " [ 538.38513    -25.19941    -91.03106   ...   49.378223   -16.296717\n",
      "   -28.70699  ]\n",
      " [ 189.3635    -524.93445    -95.206894  ...   18.956646   -13.296781\n",
      "    -6.488682 ]\n",
      " [ 934.3947     705.2388      66.915146  ...   32.696255   -62.44195\n",
      "    -6.2185745]], shape=(966, 150), dtype=float32)\n",
      "tf.Tensor(\n",
      "[[ 1.03547876e+03  1.13791553e+03 -4.02174316e+02 ...  4.84420776e+00\n",
      "   5.50105209e+01 -4.98528442e+01]\n",
      " [ 6.41476196e+02 -9.68302368e+02 -2.98281799e+02 ...  1.26594820e+01\n",
      "  -2.57443380e+00 -1.31938925e+01]\n",
      " [ 6.77618896e+02  1.66036774e+02 -5.31854736e+02 ... -3.26585770e-01\n",
      "  -1.93780975e+01  4.96283798e+01]\n",
      " ...\n",
      " [-4.71931877e+01  4.31957947e+02  3.53696808e+02 ...  5.52276306e+01\n",
      "   4.39397144e+00 -2.89902706e+01]\n",
      " [ 2.13065033e+01 -3.20171936e+02 -7.13903198e+01 ...  7.39723129e+01\n",
      "   3.42418003e+00 -4.53709602e+01]\n",
      " [-7.53679276e+01 -4.21253662e+02  3.15269562e+02 ...  8.59533310e+00\n",
      "  -2.55230713e+00 -2.62286606e+01]], shape=(322, 150), dtype=float32)\n"
     ]
    }
   ],
   "source": [
    "# Transforming the centered train and test data into PCA subspace by applying dot product on centered data and the transpose\n",
    "# of the components vector\n",
    "X_transformed_train = tf.tensordot(X_train, tf.transpose(components_train),axes=1)\n",
    "print(X_transformed_train)\n",
    "X_transformed_test = tf.tensordot(X_test, tf.transpose(components_train),axes=1)\n",
    "print(X_transformed_test)"
   ]
  },
  {
   "cell_type": "code",
   "execution_count": 39,
   "metadata": {},
   "outputs": [
    {
     "data": {
      "image/png": "[encoded data removed]",
      "text/plain": [
       "<Figure size 518.4x518.4 with 12 Axes>"
      ]
     },
     "metadata": {},
     "output_type": "display_data"
    }
   ],
   "source": [
    "plot_gallery(eigenfaces_train.numpy(),eigenface_titles,h,w)\n",
    "plt.show()"
   ]
  },
  {
   "cell_type": "markdown",
   "metadata": {},
   "source": [
    "# Part 2-CNN based classifier"
   ]
  },
  {
   "cell_type": "code",
   "execution_count": 40,
   "metadata": {},
   "outputs": [],
   "source": [
    "###SELFLEARNING\n",
    "#42 is the Answer to the Ultimate Question of Life, the Universe, and Everything. \n",
    "#On a serious note, random_state simply sets a seed to the random generator, \n",
    "#so that your train-test splits are always deterministic. If you don't set a seed, it is different each time."
   ]
  },
  {
   "cell_type": "code",
   "execution_count": 41,
   "metadata": {},
   "outputs": [],
   "source": [
    "## Splitting the LFW data set into test and train \n",
    "xlfw_train, xlfw_test, ylfw_train, ylfw_test = train_test_split(X,y, test_size = 0.25, random_state = 42)"
   ]
  },
  {
   "cell_type": "code",
   "execution_count": 42,
   "metadata": {},
   "outputs": [],
   "source": [
    "# Segregating the training set into training and validation data set, normalising and reshaping them\n",
    "xlfw_train, xlfw_val = xlfw_train[:500]/255.0, xlfw_train[500:]/255.0\n",
    "ylfw_train, ylfw_val = ylfw_train[:500], ylfw_train[500:]\n",
    "\n",
    "xlfw_train = xlfw_train.reshape(500,50,37,1)\n",
    "xlfw_val = xlfw_val.reshape(466,50,37,1)\n",
    "\n",
    "xlfw_test = xlfw_test/255.0\n",
    "xlfw_test = xlfw_test.reshape(322,50,37,1)"
   ]
  },
  {
   "cell_type": "code",
   "execution_count": 43,
   "metadata": {},
   "outputs": [],
   "source": [
    "# Loading the necessary Keras packages\n",
    "from tensorflow import keras\n",
    "from tensorflow.keras import layers\n",
    "from tensorflow.keras.models import Sequential\n",
    "from tensorflow.keras.layers import Dense, Conv2D, Flatten, MaxPooling2D, Dropout\n",
    "from tensorflow.keras.utils import to_categorical"
   ]
  },
  {
   "cell_type": "code",
   "execution_count": 44,
   "metadata": {},
   "outputs": [],
   "source": [
    "# Converting the target variables into class matrix\n",
    "ylfw_train = to_categorical(ylfw_train)\n",
    "ylfw_test = to_categorical(ylfw_test)\n",
    "ylfw_val = to_categorical(ylfw_val)"
   ]
  },
  {
   "cell_type": "code",
   "execution_count": 45,
   "metadata": {},
   "outputs": [],
   "source": [
    "###SELF LEARNING\n",
    "#https://deeplizard.com/learn/video/FK77zZxaBoI\n",
    "#We can see that the first layer, the input layer, consists of eight nodes. Each of the eight nodes in this layer represents an individual feature from a given sample in our dataset.\n",
    "#This tells us that a single sample from our dataset consists of eight dimensions. When we choose a sample from our dataset and pass this sample to the model, each of the eight values contained in the sample will be provided to a corresponding node in the input layer.\n",
    "#We can see that each of the eight input nodes are connected to every node in the next layer.\n",
    "#Each connection between the first and second layers transfers the output from the previous node to the input of the receiving node (left to right). The two layers in the middle that have six nodes each are hidden layers simply because they are positioned between the input and output layers.\n",
    "#Each connection between two nodes has an associated weight, which is just a number.\n",
    "#Each weight represents the strength of the connection between the two nodes. When the network receives an input at a given node in the input layer, this input is passed to the next node via a connection, and the input will be multiplied by the weight assigned to that connection.\n",
    "#For each node in the second layer, a weighted sum is then computed with each of the incoming connections. This sum is then passed to an activation function, which performs some type of transformation on the given sum. For example, an activation function may transform the sum to be a number between zero and one. The actual transformation will vary depending on which activation function is used.\n",
    "#Once we obtain the output for a given node, the obtained output is the value that is passed as input to the nodes in the next layer.\n",
    "#This process continues until the output layer is reached. The number of nodes in the output layer depends on the number of possible output or prediction classes we have. In our example, we have four possible prediction classes.\n",
    "#As the model learns, the weights at all connections are updated and optimized so that the input data point maps to the correct output prediction class. \n",
    "#layers = [\n",
    "    #Dense(units=6, input_shape=(8,), activation='relu'),\n",
    "    #Dense(units=6, activation='relu'),\n",
    "    #Dense(units=4, activation='softmax')\n",
    "#]\n",
    "#Notice how the first Dense object specified in the array is not the input layer. The first Dense object is the first hidden layer. The input layer is specified as a parameter to the first Dense object’s constructor.\n",
    "#Our input shape is eight. This is why our input shape is specified as input_shape=(8,). Our first hidden layer has six nodes as does our second hidden layer, and our output layer has four nodes.\n"
   ]
  },
  {
   "cell_type": "code",
   "execution_count": 46,
   "metadata": {},
   "outputs": [],
   "source": [
    "# Dense Only Layer\n",
    "model_dense = Sequential()\n",
    "model_dense.add(Flatten())\n",
    "model_dense.add(Dense(128,activation = 'relu'))\n",
    "model_dense.add(Dense(64,activation = 'relu'))\n",
    "model_dense.add(Dense(32,activation = 'relu'))\n",
    "model_dense.add(Dense(16,activation = 'relu'))\n",
    "model_dense.add(Dense(7,activation = 'softmax'))\n"
   ]
  },
  {
   "cell_type": "code",
   "execution_count": 47,
   "metadata": {},
   "outputs": [],
   "source": [
    "model_dense.compile(optimizer='adam', loss='categorical_crossentropy', metrics=['accuracy'])"
   ]
  },
  {
   "cell_type": "code",
   "execution_count": 48,
   "metadata": {},
   "outputs": [
    {
     "name": "stdout",
     "output_type": "stream",
     "text": [
      "Epoch 1/100\n",
      "8/8 [==============================] - 0s 15ms/step - loss: 1.8630 - accuracy: 0.2920 - val_loss: 1.7740 - val_accuracy: 0.3991\n",
      "Epoch 2/100\n",
      "8/8 [==============================] - 0s 3ms/step - loss: 1.7807 - accuracy: 0.3960 - val_loss: 1.7346 - val_accuracy: 0.4056\n",
      "Epoch 3/100\n",
      "8/8 [==============================] - 0s 3ms/step - loss: 1.7209 - accuracy: 0.4020 - val_loss: 1.6869 - val_accuracy: 0.3991\n",
      "Epoch 4/100\n",
      "8/8 [==============================] - 0s 3ms/step - loss: 1.6878 - accuracy: 0.4140 - val_loss: 1.6545 - val_accuracy: 0.4635\n",
      "Epoch 5/100\n",
      "8/8 [==============================] - 0s 3ms/step - loss: 1.6540 - accuracy: 0.4320 - val_loss: 1.6266 - val_accuracy: 0.4828\n",
      "Epoch 6/100\n",
      "8/8 [==============================] - 0s 3ms/step - loss: 1.6451 - accuracy: 0.4680 - val_loss: 1.6318 - val_accuracy: 0.4700\n",
      "Epoch 7/100\n",
      "8/8 [==============================] - 0s 3ms/step - loss: 1.6035 - accuracy: 0.4640 - val_loss: 1.5653 - val_accuracy: 0.4571\n",
      "Epoch 8/100\n",
      "8/8 [==============================] - 0s 3ms/step - loss: 1.5902 - accuracy: 0.4520 - val_loss: 1.6265 - val_accuracy: 0.4206\n",
      "Epoch 9/100\n",
      "8/8 [==============================] - 0s 3ms/step - loss: 1.5739 - accuracy: 0.4540 - val_loss: 1.5537 - val_accuracy: 0.4828\n",
      "Epoch 10/100\n",
      "8/8 [==============================] - 0s 3ms/step - loss: 1.5282 - accuracy: 0.4640 - val_loss: 1.5038 - val_accuracy: 0.4828\n",
      "Epoch 11/100\n",
      "8/8 [==============================] - 0s 3ms/step - loss: 1.4884 - accuracy: 0.4780 - val_loss: 1.4784 - val_accuracy: 0.4871\n",
      "Epoch 12/100\n",
      "8/8 [==============================] - 0s 3ms/step - loss: 1.4539 - accuracy: 0.4760 - val_loss: 1.4889 - val_accuracy: 0.4850\n",
      "Epoch 13/100\n",
      "8/8 [==============================] - 0s 3ms/step - loss: 1.4340 - accuracy: 0.4760 - val_loss: 1.4386 - val_accuracy: 0.4979\n",
      "Epoch 14/100\n",
      "8/8 [==============================] - 0s 3ms/step - loss: 1.4074 - accuracy: 0.4820 - val_loss: 1.4379 - val_accuracy: 0.5064\n",
      "Epoch 15/100\n",
      "8/8 [==============================] - 0s 3ms/step - loss: 1.4001 - accuracy: 0.4960 - val_loss: 1.4575 - val_accuracy: 0.4850\n",
      "Epoch 16/100\n",
      "8/8 [==============================] - 0s 3ms/step - loss: 1.3682 - accuracy: 0.4940 - val_loss: 1.3723 - val_accuracy: 0.5086\n",
      "Epoch 17/100\n",
      "8/8 [==============================] - 0s 3ms/step - loss: 1.3209 - accuracy: 0.5100 - val_loss: 1.3558 - val_accuracy: 0.5086\n",
      "Epoch 18/100\n",
      "8/8 [==============================] - 0s 3ms/step - loss: 1.2818 - accuracy: 0.5140 - val_loss: 1.3294 - val_accuracy: 0.5172\n",
      "Epoch 19/100\n",
      "8/8 [==============================] - 0s 3ms/step - loss: 1.2594 - accuracy: 0.5260 - val_loss: 1.3102 - val_accuracy: 0.5322\n",
      "Epoch 20/100\n",
      "8/8 [==============================] - 0s 3ms/step - loss: 1.2291 - accuracy: 0.5340 - val_loss: 1.3727 - val_accuracy: 0.5150\n",
      "Epoch 21/100\n",
      "8/8 [==============================] - 0s 3ms/step - loss: 1.2204 - accuracy: 0.5340 - val_loss: 1.2811 - val_accuracy: 0.5601\n",
      "Epoch 22/100\n",
      "8/8 [==============================] - 0s 3ms/step - loss: 1.2044 - accuracy: 0.5460 - val_loss: 1.2876 - val_accuracy: 0.5236\n",
      "Epoch 23/100\n",
      "8/8 [==============================] - 0s 3ms/step - loss: 1.1603 - accuracy: 0.5620 - val_loss: 1.2457 - val_accuracy: 0.5730\n",
      "Epoch 24/100\n",
      "8/8 [==============================] - 0s 3ms/step - loss: 1.0840 - accuracy: 0.6040 - val_loss: 1.1857 - val_accuracy: 0.5665\n",
      "Epoch 25/100\n",
      "8/8 [==============================] - 0s 3ms/step - loss: 1.0585 - accuracy: 0.5980 - val_loss: 1.3245 - val_accuracy: 0.5322\n",
      "Epoch 26/100\n",
      "8/8 [==============================] - 0s 3ms/step - loss: 1.1384 - accuracy: 0.5760 - val_loss: 1.1741 - val_accuracy: 0.5815\n",
      "Epoch 27/100\n",
      "8/8 [==============================] - 0s 3ms/step - loss: 1.0360 - accuracy: 0.5940 - val_loss: 1.1711 - val_accuracy: 0.5815\n",
      "Epoch 28/100\n",
      "8/8 [==============================] - 0s 3ms/step - loss: 1.0144 - accuracy: 0.6420 - val_loss: 1.1822 - val_accuracy: 0.5815\n",
      "Epoch 29/100\n",
      "8/8 [==============================] - 0s 4ms/step - loss: 0.9870 - accuracy: 0.6000 - val_loss: 1.1324 - val_accuracy: 0.5944\n",
      "Epoch 30/100\n",
      "8/8 [==============================] - 0s 3ms/step - loss: 0.9782 - accuracy: 0.6320 - val_loss: 1.1831 - val_accuracy: 0.5751\n",
      "Epoch 31/100\n",
      "8/8 [==============================] - 0s 3ms/step - loss: 0.9642 - accuracy: 0.6360 - val_loss: 1.1046 - val_accuracy: 0.6052\n",
      "Epoch 32/100\n",
      "8/8 [==============================] - 0s 3ms/step - loss: 0.9092 - accuracy: 0.6620 - val_loss: 1.0678 - val_accuracy: 0.6030\n",
      "Epoch 33/100\n",
      "8/8 [==============================] - 0s 3ms/step - loss: 0.8865 - accuracy: 0.6620 - val_loss: 1.1434 - val_accuracy: 0.6073\n",
      "Epoch 34/100\n",
      "8/8 [==============================] - 0s 3ms/step - loss: 0.9775 - accuracy: 0.6480 - val_loss: 1.2950 - val_accuracy: 0.5644\n",
      "Epoch 35/100\n",
      "8/8 [==============================] - 0s 3ms/step - loss: 0.9332 - accuracy: 0.6700 - val_loss: 1.1710 - val_accuracy: 0.5880\n",
      "Epoch 36/100\n",
      "8/8 [==============================] - 0s 3ms/step - loss: 0.9035 - accuracy: 0.6620 - val_loss: 1.1235 - val_accuracy: 0.6330\n",
      "Epoch 37/100\n",
      "8/8 [==============================] - 0s 3ms/step - loss: 0.9320 - accuracy: 0.6680 - val_loss: 1.2790 - val_accuracy: 0.5837\n",
      "Epoch 38/100\n",
      "8/8 [==============================] - 0s 3ms/step - loss: 0.9754 - accuracy: 0.6220 - val_loss: 1.0482 - val_accuracy: 0.6330\n",
      "Epoch 39/100\n",
      "8/8 [==============================] - 0s 3ms/step - loss: 0.8860 - accuracy: 0.6900 - val_loss: 1.0523 - val_accuracy: 0.5987\n",
      "Epoch 40/100\n",
      "8/8 [==============================] - 0s 3ms/step - loss: 0.8477 - accuracy: 0.7020 - val_loss: 0.9930 - val_accuracy: 0.6567\n",
      "Epoch 41/100\n",
      "8/8 [==============================] - 0s 3ms/step - loss: 0.7900 - accuracy: 0.7340 - val_loss: 1.0599 - val_accuracy: 0.6567\n",
      "Epoch 42/100\n",
      "8/8 [==============================] - 0s 3ms/step - loss: 0.7915 - accuracy: 0.7240 - val_loss: 1.0518 - val_accuracy: 0.6438\n",
      "Epoch 43/100\n",
      "8/8 [==============================] - 0s 3ms/step - loss: 0.7654 - accuracy: 0.7400 - val_loss: 1.0125 - val_accuracy: 0.6695\n",
      "Epoch 44/100\n",
      "8/8 [==============================] - 0s 3ms/step - loss: 0.7387 - accuracy: 0.7540 - val_loss: 1.0177 - val_accuracy: 0.6545\n",
      "Epoch 45/100\n",
      "8/8 [==============================] - 0s 3ms/step - loss: 0.7570 - accuracy: 0.7360 - val_loss: 1.1254 - val_accuracy: 0.6030\n",
      "Epoch 46/100\n",
      "8/8 [==============================] - 0s 3ms/step - loss: 0.7959 - accuracy: 0.7160 - val_loss: 1.0886 - val_accuracy: 0.6352\n",
      "Epoch 47/100\n",
      "8/8 [==============================] - 0s 3ms/step - loss: 0.8027 - accuracy: 0.6940 - val_loss: 1.1495 - val_accuracy: 0.6202\n",
      "Epoch 48/100\n",
      "8/8 [==============================] - 0s 3ms/step - loss: 0.8446 - accuracy: 0.7040 - val_loss: 0.9718 - val_accuracy: 0.6609\n",
      "Epoch 49/100\n",
      "8/8 [==============================] - 0s 3ms/step - loss: 0.7493 - accuracy: 0.7420 - val_loss: 1.0569 - val_accuracy: 0.6223\n",
      "Epoch 50/100\n",
      "8/8 [==============================] - 0s 3ms/step - loss: 0.6855 - accuracy: 0.7640 - val_loss: 0.9647 - val_accuracy: 0.6845\n",
      "Epoch 51/100\n",
      "8/8 [==============================] - 0s 3ms/step - loss: 0.6641 - accuracy: 0.7700 - val_loss: 0.9840 - val_accuracy: 0.6588\n",
      "Epoch 52/100\n",
      "8/8 [==============================] - 0s 3ms/step - loss: 0.6763 - accuracy: 0.7720 - val_loss: 1.0245 - val_accuracy: 0.6459\n",
      "Epoch 53/100\n",
      "8/8 [==============================] - 0s 3ms/step - loss: 0.6772 - accuracy: 0.7740 - val_loss: 0.9495 - val_accuracy: 0.6867\n",
      "Epoch 54/100\n",
      "8/8 [==============================] - 0s 3ms/step - loss: 0.6535 - accuracy: 0.7660 - val_loss: 1.0886 - val_accuracy: 0.6395\n",
      "Epoch 55/100\n",
      "8/8 [==============================] - 0s 3ms/step - loss: 0.6940 - accuracy: 0.7520 - val_loss: 1.0420 - val_accuracy: 0.6524\n",
      "Epoch 56/100\n",
      "8/8 [==============================] - 0s 3ms/step - loss: 0.6424 - accuracy: 0.7840 - val_loss: 1.0173 - val_accuracy: 0.6781\n",
      "Epoch 57/100\n",
      "8/8 [==============================] - 0s 3ms/step - loss: 0.6245 - accuracy: 0.7840 - val_loss: 1.0131 - val_accuracy: 0.6481\n",
      "Epoch 58/100\n",
      "8/8 [==============================] - 0s 3ms/step - loss: 0.6441 - accuracy: 0.7840 - val_loss: 1.1437 - val_accuracy: 0.6245\n",
      "Epoch 59/100\n",
      "8/8 [==============================] - 0s 3ms/step - loss: 0.6717 - accuracy: 0.7600 - val_loss: 1.0644 - val_accuracy: 0.6373\n",
      "Epoch 60/100\n",
      "8/8 [==============================] - 0s 3ms/step - loss: 0.5932 - accuracy: 0.8060 - val_loss: 0.9868 - val_accuracy: 0.6695\n",
      "Epoch 61/100\n",
      "8/8 [==============================] - 0s 3ms/step - loss: 0.5716 - accuracy: 0.7980 - val_loss: 0.9832 - val_accuracy: 0.6717\n",
      "Epoch 62/100\n",
      "8/8 [==============================] - 0s 3ms/step - loss: 0.5530 - accuracy: 0.8280 - val_loss: 0.9819 - val_accuracy: 0.6803\n",
      "Epoch 63/100\n",
      "8/8 [==============================] - 0s 3ms/step - loss: 0.5839 - accuracy: 0.8000 - val_loss: 1.0448 - val_accuracy: 0.6674\n",
      "Epoch 64/100\n",
      "8/8 [==============================] - 0s 3ms/step - loss: 0.6049 - accuracy: 0.8020 - val_loss: 1.1117 - val_accuracy: 0.6352\n",
      "Epoch 65/100\n",
      "8/8 [==============================] - 0s 3ms/step - loss: 0.6036 - accuracy: 0.7820 - val_loss: 0.9814 - val_accuracy: 0.6674\n",
      "Epoch 66/100\n",
      "8/8 [==============================] - 0s 3ms/step - loss: 0.6084 - accuracy: 0.7940 - val_loss: 1.2545 - val_accuracy: 0.5794\n",
      "Epoch 67/100\n",
      "8/8 [==============================] - 0s 3ms/step - loss: 0.5996 - accuracy: 0.7920 - val_loss: 0.9354 - val_accuracy: 0.6910\n",
      "Epoch 68/100\n",
      "8/8 [==============================] - 0s 3ms/step - loss: 0.5314 - accuracy: 0.8140 - val_loss: 1.0145 - val_accuracy: 0.6717\n",
      "Epoch 69/100\n",
      "8/8 [==============================] - 0s 3ms/step - loss: 0.5464 - accuracy: 0.8040 - val_loss: 1.0335 - val_accuracy: 0.6674\n",
      "Epoch 70/100\n",
      "8/8 [==============================] - 0s 3ms/step - loss: 0.5601 - accuracy: 0.8060 - val_loss: 0.9630 - val_accuracy: 0.6867\n",
      "Epoch 71/100\n",
      "8/8 [==============================] - 0s 3ms/step - loss: 0.4921 - accuracy: 0.8500 - val_loss: 0.9743 - val_accuracy: 0.6803\n",
      "Epoch 72/100\n",
      "8/8 [==============================] - 0s 3ms/step - loss: 0.4910 - accuracy: 0.8540 - val_loss: 0.9760 - val_accuracy: 0.6931\n",
      "Epoch 73/100\n",
      "8/8 [==============================] - 0s 3ms/step - loss: 0.4680 - accuracy: 0.8520 - val_loss: 1.0027 - val_accuracy: 0.6803\n",
      "Epoch 74/100\n",
      "8/8 [==============================] - 0s 3ms/step - loss: 0.5019 - accuracy: 0.8360 - val_loss: 1.0139 - val_accuracy: 0.6717\n",
      "Epoch 75/100\n",
      "8/8 [==============================] - 0s 3ms/step - loss: 0.4757 - accuracy: 0.8580 - val_loss: 1.0439 - val_accuracy: 0.6524\n",
      "Epoch 76/100\n",
      "8/8 [==============================] - 0s 3ms/step - loss: 0.5507 - accuracy: 0.7900 - val_loss: 0.9637 - val_accuracy: 0.6717\n",
      "Epoch 77/100\n",
      "8/8 [==============================] - 0s 3ms/step - loss: 0.5156 - accuracy: 0.8140 - val_loss: 0.9525 - val_accuracy: 0.6953\n",
      "Epoch 78/100\n",
      "8/8 [==============================] - 0s 3ms/step - loss: 0.4780 - accuracy: 0.8460 - val_loss: 1.0972 - val_accuracy: 0.6545\n",
      "Epoch 79/100\n",
      "8/8 [==============================] - 0s 3ms/step - loss: 0.4808 - accuracy: 0.8480 - val_loss: 1.0089 - val_accuracy: 0.6910\n",
      "Epoch 80/100\n",
      "8/8 [==============================] - 0s 3ms/step - loss: 0.4509 - accuracy: 0.8560 - val_loss: 1.0445 - val_accuracy: 0.6910\n",
      "Epoch 81/100\n",
      "8/8 [==============================] - 0s 3ms/step - loss: 0.5144 - accuracy: 0.8300 - val_loss: 0.9859 - val_accuracy: 0.6888\n",
      "Epoch 82/100\n",
      "8/8 [==============================] - 0s 3ms/step - loss: 0.4754 - accuracy: 0.8460 - val_loss: 0.9646 - val_accuracy: 0.7082\n",
      "Epoch 83/100\n",
      "8/8 [==============================] - 0s 3ms/step - loss: 0.3922 - accuracy: 0.8980 - val_loss: 0.9406 - val_accuracy: 0.7082\n",
      "Epoch 84/100\n",
      "8/8 [==============================] - 0s 3ms/step - loss: 0.4026 - accuracy: 0.8800 - val_loss: 1.0119 - val_accuracy: 0.6953\n",
      "Epoch 85/100\n",
      "8/8 [==============================] - 0s 3ms/step - loss: 0.3917 - accuracy: 0.8700 - val_loss: 1.0044 - val_accuracy: 0.6888\n",
      "Epoch 86/100\n",
      "8/8 [==============================] - 0s 3ms/step - loss: 0.3781 - accuracy: 0.8740 - val_loss: 0.9567 - val_accuracy: 0.7060\n",
      "Epoch 87/100\n",
      "8/8 [==============================] - 0s 3ms/step - loss: 0.3969 - accuracy: 0.8920 - val_loss: 0.9326 - val_accuracy: 0.7082\n",
      "Epoch 88/100\n",
      "8/8 [==============================] - 0s 3ms/step - loss: 0.3728 - accuracy: 0.8880 - val_loss: 0.9501 - val_accuracy: 0.7103\n",
      "Epoch 89/100\n",
      "8/8 [==============================] - 0s 3ms/step - loss: 0.3728 - accuracy: 0.9020 - val_loss: 1.1381 - val_accuracy: 0.6738\n",
      "Epoch 90/100\n",
      "8/8 [==============================] - 0s 3ms/step - loss: 0.3812 - accuracy: 0.8760 - val_loss: 1.0352 - val_accuracy: 0.6803\n",
      "Epoch 91/100\n",
      "8/8 [==============================] - 0s 3ms/step - loss: 0.3474 - accuracy: 0.8940 - val_loss: 0.9628 - val_accuracy: 0.7189\n",
      "Epoch 92/100\n",
      "8/8 [==============================] - 0s 3ms/step - loss: 0.3933 - accuracy: 0.8620 - val_loss: 1.3228 - val_accuracy: 0.6245\n",
      "Epoch 93/100\n",
      "8/8 [==============================] - 0s 3ms/step - loss: 0.5032 - accuracy: 0.8200 - val_loss: 1.0794 - val_accuracy: 0.6738\n",
      "Epoch 94/100\n",
      "8/8 [==============================] - 0s 3ms/step - loss: 0.5142 - accuracy: 0.8040 - val_loss: 1.0186 - val_accuracy: 0.6867\n",
      "Epoch 95/100\n",
      "8/8 [==============================] - 0s 3ms/step - loss: 0.4478 - accuracy: 0.8420 - val_loss: 0.9459 - val_accuracy: 0.7124\n",
      "Epoch 96/100\n",
      "8/8 [==============================] - 0s 3ms/step - loss: 0.3816 - accuracy: 0.8860 - val_loss: 1.0178 - val_accuracy: 0.7017\n",
      "Epoch 97/100\n",
      "8/8 [==============================] - 0s 3ms/step - loss: 0.3724 - accuracy: 0.8600 - val_loss: 0.9701 - val_accuracy: 0.6867\n",
      "Epoch 98/100\n",
      "8/8 [==============================] - 0s 3ms/step - loss: 0.3221 - accuracy: 0.8940 - val_loss: 0.9750 - val_accuracy: 0.7082\n",
      "Epoch 99/100\n",
      "8/8 [==============================] - 0s 3ms/step - loss: 0.3057 - accuracy: 0.9140 - val_loss: 0.9511 - val_accuracy: 0.7103\n",
      "Epoch 100/100\n",
      "8/8 [==============================] - 0s 3ms/step - loss: 0.3157 - accuracy: 0.9100 - val_loss: 1.0151 - val_accuracy: 0.6781\n"
     ]
    }
   ],
   "source": [
    "history_dense = model_dense.fit(xlfw_train, ylfw_train, validation_data=(xlfw_val, ylfw_val),batch_size = 64, epochs=100)"
   ]
  },
  {
   "cell_type": "code",
   "execution_count": 49,
   "metadata": {},
   "outputs": [
    {
     "data": {
      "text/plain": [
       "[<matplotlib.lines.Line2D at 0x1da65225f88>]"
      ]
     },
     "execution_count": 49,
     "metadata": {},
     "output_type": "execute_result"
    },
    {
     "data": {
      "image/png": "[encoded data removed]",
      "text/plain": [
       "<Figure size 432x288 with 2 Axes>"
      ]
     },
     "metadata": {
      "needs_background": "light"
     },
     "output_type": "display_data"
    }
   ],
   "source": [
    "#traing vs evaluation(Loss and Accuracy)\n",
    "import matplotlib.pyplot as plt\n",
    "plt.subplot(211)\n",
    "plt.title('Cross Entropy Loss for LFW')\n",
    "plt.plot(history_dense.history['loss'], color='blue', label='train')\n",
    "plt.plot(history_dense.history['val_loss'], color='orange', label='test')\n",
    "# plot accuracy\n",
    "plt.subplot(212)\n",
    "plt.title('Classification Accuracy for LFW')\n",
    "plt.plot(history_dense.history['accuracy'], color='blue', label='train')\n",
    "plt.plot(history_dense.history['val_accuracy'], color='orange', label='test')"
   ]
  },
  {
   "cell_type": "code",
   "execution_count": 50,
   "metadata": {},
   "outputs": [
    {
     "name": "stdout",
     "output_type": "stream",
     "text": [
      "WARNING:tensorflow:From <ipython-input-50-2771c5044307>:3: Sequential.predict_classes (from tensorflow.python.keras.engine.sequential) is deprecated and will be removed after 2021-01-01.\n",
      "Instructions for updating:\n",
      "Please use instead:* `np.argmax(model.predict(x), axis=-1)`,   if your model does multi-class classification   (e.g. if it uses a `softmax` last-layer activation).* `(model.predict(x) > 0.5).astype(\"int32\")`,   if your model does binary classification   (e.g. if it uses a `sigmoid` last-layer activation).\n",
      "              precision    recall  f1-score   support\n",
      "\n",
      "           0       0.36      0.38      0.37        13\n",
      "           1       0.75      0.82      0.78        60\n",
      "           2       0.48      0.85      0.61        27\n",
      "           3       0.94      0.75      0.83       146\n",
      "           4       0.50      0.40      0.44        25\n",
      "           5       0.82      0.60      0.69        15\n",
      "           6       0.48      0.64      0.55        36\n",
      "\n",
      "    accuracy                           0.71       322\n",
      "   macro avg       0.62      0.63      0.61       322\n",
      "weighted avg       0.75      0.71      0.72       322\n",
      "\n"
     ]
    }
   ],
   "source": [
    "##Performance testing\n",
    "#On test data(x_test to prediction & y_test)\n",
    "ylfw_pred_dense = model_dense.predict_classes(xlfw_test)\n",
    "ylfw_test_dense = np.argmax(ylfw_test,axis=1)\n",
    "print(classification_report(ylfw_test_dense, ylfw_pred_dense))"
   ]
  },
  {
   "cell_type": "code",
   "execution_count": 51,
   "metadata": {},
   "outputs": [],
   "source": [
    "###SELFLEARNING\n",
    "#https://deeplizard.com/learn/video/YRhxdVk_sIs\n",
    "#Suppose that this grayscale image (single color channel) of a seven from the MNIST data set is our input:\n",
    "#Let’s suppose that we have four 3 x 3 filters for our first convolutional layer, and these filters are filled with the values you see below. These values can be represented visually by having -1s correspond to black, 1s correspond to white, and 0s correspond to grey.\n",
    "#The sliding is referred to as convolving, so really, we should say that this filter is going to convolve across each 3 x 3 block of pixels from the input.\n",
    "#If we convolve our original image of a seven with each of these four filters individually, this is what the output would look like for each filter:\n",
    "#We can see that all four of these filters are detecting edges. In the output channels, the brightest pixels can be interpreted as what the filter has detected. \n",
    "#The amazing thing is that the pattern detectors are derived automatically by the network. The filter values start out with random values, and the values change as the network learns during training. The pattern detecting capability of the filters emerges automatically."
   ]
  },
  {
   "cell_type": "code",
   "execution_count": 52,
   "metadata": {},
   "outputs": [],
   "source": [
    "#Initialising the Sequential model for Convolutional Layers\n",
    "model_lfw = Sequential()"
   ]
  },
  {
   "cell_type": "code",
   "execution_count": 53,
   "metadata": {},
   "outputs": [],
   "source": [
    "# Adding layers to the model\n",
    "model_lfw.add(Conv2D(32, kernel_size=3, activation='relu', input_shape=(50,37,1)))\n",
    "model_lfw.add(Conv2D(32, kernel_size=3, activation='relu'))\n",
    "model_lfw.add(Flatten())\n",
    "model_lfw.add(Dense(7, activation='softmax'))"
   ]
  },
  {
   "cell_type": "code",
   "execution_count": 54,
   "metadata": {},
   "outputs": [],
   "source": [
    "model_lfw.compile(optimizer='adam', loss='categorical_crossentropy', metrics=['accuracy'])"
   ]
  },
  {
   "cell_type": "code",
   "execution_count": 55,
   "metadata": {},
   "outputs": [
    {
     "name": "stdout",
     "output_type": "stream",
     "text": [
      "Epoch 1/100\n",
      "8/8 [==============================] - 1s 68ms/step - loss: 1.8593 - accuracy: 0.2720 - val_loss: 1.7720 - val_accuracy: 0.3991\n",
      "Epoch 2/100\n",
      "8/8 [==============================] - 0s 62ms/step - loss: 1.7200 - accuracy: 0.3960 - val_loss: 1.6582 - val_accuracy: 0.3991\n",
      "Epoch 3/100\n",
      "8/8 [==============================] - 0s 60ms/step - loss: 1.6410 - accuracy: 0.3960 - val_loss: 1.5938 - val_accuracy: 0.3991\n",
      "Epoch 4/100\n",
      "8/8 [==============================] - 0s 60ms/step - loss: 1.5367 - accuracy: 0.4040 - val_loss: 1.4866 - val_accuracy: 0.4528\n",
      "Epoch 5/100\n",
      "8/8 [==============================] - 0s 60ms/step - loss: 1.3290 - accuracy: 0.5240 - val_loss: 1.3338 - val_accuracy: 0.5622\n",
      "Epoch 6/100\n",
      "8/8 [==============================] - 0s 59ms/step - loss: 1.0592 - accuracy: 0.6420 - val_loss: 1.1712 - val_accuracy: 0.5966\n",
      "Epoch 7/100\n",
      "8/8 [==============================] - 0s 59ms/step - loss: 0.8065 - accuracy: 0.7460 - val_loss: 1.1755 - val_accuracy: 0.5751\n",
      "Epoch 8/100\n",
      "8/8 [==============================] - 0s 62ms/step - loss: 0.6258 - accuracy: 0.7920 - val_loss: 0.9130 - val_accuracy: 0.7124\n",
      "Epoch 9/100\n",
      "8/8 [==============================] - 0s 61ms/step - loss: 0.4830 - accuracy: 0.8840 - val_loss: 0.8745 - val_accuracy: 0.6824\n",
      "Epoch 10/100\n",
      "8/8 [==============================] - 0s 60ms/step - loss: 0.4065 - accuracy: 0.8800 - val_loss: 0.8039 - val_accuracy: 0.7361\n",
      "Epoch 11/100\n",
      "8/8 [==============================] - 0s 61ms/step - loss: 0.2980 - accuracy: 0.9320 - val_loss: 0.7496 - val_accuracy: 0.7682\n",
      "Epoch 12/100\n",
      "8/8 [==============================] - 0s 60ms/step - loss: 0.2039 - accuracy: 0.9660 - val_loss: 0.6892 - val_accuracy: 0.7639\n",
      "Epoch 13/100\n",
      "8/8 [==============================] - 0s 62ms/step - loss: 0.1564 - accuracy: 0.9760 - val_loss: 0.7156 - val_accuracy: 0.7747\n",
      "Epoch 14/100\n",
      "8/8 [==============================] - 0s 60ms/step - loss: 0.1357 - accuracy: 0.9680 - val_loss: 0.7352 - val_accuracy: 0.7597\n",
      "Epoch 15/100\n",
      "8/8 [==============================] - 0s 60ms/step - loss: 0.0958 - accuracy: 0.9860 - val_loss: 0.8484 - val_accuracy: 0.7489\n",
      "Epoch 16/100\n",
      "8/8 [==============================] - 0s 60ms/step - loss: 0.0873 - accuracy: 0.9940 - val_loss: 0.7788 - val_accuracy: 0.7704\n",
      "Epoch 17/100\n",
      "8/8 [==============================] - 0s 59ms/step - loss: 0.0723 - accuracy: 0.9920 - val_loss: 0.6922 - val_accuracy: 0.7897\n",
      "Epoch 18/100\n",
      "8/8 [==============================] - 0s 61ms/step - loss: 0.0559 - accuracy: 0.9940 - val_loss: 0.7039 - val_accuracy: 0.7854\n",
      "Epoch 19/100\n",
      "8/8 [==============================] - 0s 60ms/step - loss: 0.0470 - accuracy: 0.9960 - val_loss: 0.6484 - val_accuracy: 0.8026\n",
      "Epoch 20/100\n",
      "8/8 [==============================] - 0s 62ms/step - loss: 0.0307 - accuracy: 1.0000 - val_loss: 0.8698 - val_accuracy: 0.7597\n",
      "Epoch 21/100\n",
      "8/8 [==============================] - 0s 61ms/step - loss: 0.0272 - accuracy: 0.9980 - val_loss: 0.6854 - val_accuracy: 0.7918\n",
      "Epoch 22/100\n",
      "8/8 [==============================] - 0s 60ms/step - loss: 0.0168 - accuracy: 1.0000 - val_loss: 0.8012 - val_accuracy: 0.7918\n",
      "Epoch 23/100\n",
      "8/8 [==============================] - 0s 60ms/step - loss: 0.0144 - accuracy: 1.0000 - val_loss: 0.7347 - val_accuracy: 0.8004\n",
      "Epoch 24/100\n",
      "8/8 [==============================] - 0s 60ms/step - loss: 0.0120 - accuracy: 1.0000 - val_loss: 0.7719 - val_accuracy: 0.7983\n",
      "Epoch 25/100\n",
      "8/8 [==============================] - 0s 61ms/step - loss: 0.0103 - accuracy: 1.0000 - val_loss: 0.7826 - val_accuracy: 0.7918\n",
      "Epoch 26/100\n",
      "8/8 [==============================] - 0s 61ms/step - loss: 0.0091 - accuracy: 1.0000 - val_loss: 0.7861 - val_accuracy: 0.7961\n",
      "Epoch 27/100\n",
      "8/8 [==============================] - 0s 61ms/step - loss: 0.0083 - accuracy: 1.0000 - val_loss: 0.7793 - val_accuracy: 0.7940\n",
      "Epoch 28/100\n",
      "8/8 [==============================] - 0s 61ms/step - loss: 0.0076 - accuracy: 1.0000 - val_loss: 0.8195 - val_accuracy: 0.7940\n",
      "Epoch 29/100\n",
      "8/8 [==============================] - 0s 60ms/step - loss: 0.0071 - accuracy: 1.0000 - val_loss: 0.7980 - val_accuracy: 0.7918\n",
      "Epoch 30/100\n",
      "8/8 [==============================] - 0s 59ms/step - loss: 0.0064 - accuracy: 1.0000 - val_loss: 0.8024 - val_accuracy: 0.7940\n",
      "Epoch 31/100\n",
      "8/8 [==============================] - 0s 61ms/step - loss: 0.0063 - accuracy: 1.0000 - val_loss: 0.8261 - val_accuracy: 0.7940\n",
      "Epoch 32/100\n",
      "8/8 [==============================] - 0s 60ms/step - loss: 0.0058 - accuracy: 1.0000 - val_loss: 0.8065 - val_accuracy: 0.7897\n",
      "Epoch 33/100\n",
      "8/8 [==============================] - 0s 61ms/step - loss: 0.0053 - accuracy: 1.0000 - val_loss: 0.8388 - val_accuracy: 0.7897\n",
      "Epoch 34/100\n",
      "8/8 [==============================] - 0s 62ms/step - loss: 0.0047 - accuracy: 1.0000 - val_loss: 0.8221 - val_accuracy: 0.7983\n",
      "Epoch 35/100\n",
      "8/8 [==============================] - 0s 60ms/step - loss: 0.0045 - accuracy: 1.0000 - val_loss: 0.8405 - val_accuracy: 0.7918\n",
      "Epoch 36/100\n",
      "8/8 [==============================] - 1s 64ms/step - loss: 0.0041 - accuracy: 1.0000 - val_loss: 0.8364 - val_accuracy: 0.7918\n",
      "Epoch 37/100\n",
      "8/8 [==============================] - 1s 63ms/step - loss: 0.0039 - accuracy: 1.0000 - val_loss: 0.8490 - val_accuracy: 0.7876\n",
      "Epoch 38/100\n",
      "8/8 [==============================] - 0s 60ms/step - loss: 0.0037 - accuracy: 1.0000 - val_loss: 0.8410 - val_accuracy: 0.7876\n",
      "Epoch 39/100\n",
      "8/8 [==============================] - 0s 60ms/step - loss: 0.0035 - accuracy: 1.0000 - val_loss: 0.8582 - val_accuracy: 0.7897\n",
      "Epoch 40/100\n",
      "8/8 [==============================] - 0s 60ms/step - loss: 0.0033 - accuracy: 1.0000 - val_loss: 0.8585 - val_accuracy: 0.7897\n",
      "Epoch 41/100\n",
      "8/8 [==============================] - 0s 60ms/step - loss: 0.0032 - accuracy: 1.0000 - val_loss: 0.8615 - val_accuracy: 0.7918\n",
      "Epoch 42/100\n",
      "8/8 [==============================] - 0s 60ms/step - loss: 0.0029 - accuracy: 1.0000 - val_loss: 0.8733 - val_accuracy: 0.7961\n",
      "Epoch 43/100\n",
      "8/8 [==============================] - 0s 59ms/step - loss: 0.0028 - accuracy: 1.0000 - val_loss: 0.8738 - val_accuracy: 0.7897\n",
      "Epoch 44/100\n",
      "8/8 [==============================] - 0s 60ms/step - loss: 0.0027 - accuracy: 1.0000 - val_loss: 0.8722 - val_accuracy: 0.7918\n",
      "Epoch 45/100\n",
      "8/8 [==============================] - 0s 60ms/step - loss: 0.0026 - accuracy: 1.0000 - val_loss: 0.8781 - val_accuracy: 0.7897\n",
      "Epoch 46/100\n",
      "8/8 [==============================] - 0s 59ms/step - loss: 0.0024 - accuracy: 1.0000 - val_loss: 0.8787 - val_accuracy: 0.7876\n",
      "Epoch 47/100\n",
      "8/8 [==============================] - 0s 60ms/step - loss: 0.0024 - accuracy: 1.0000 - val_loss: 0.8863 - val_accuracy: 0.7918\n",
      "Epoch 48/100\n",
      "8/8 [==============================] - 0s 61ms/step - loss: 0.0023 - accuracy: 1.0000 - val_loss: 0.8927 - val_accuracy: 0.7897\n",
      "Epoch 49/100\n",
      "8/8 [==============================] - 0s 62ms/step - loss: 0.0021 - accuracy: 1.0000 - val_loss: 0.8934 - val_accuracy: 0.7897\n",
      "Epoch 50/100\n",
      "8/8 [==============================] - 0s 60ms/step - loss: 0.0021 - accuracy: 1.0000 - val_loss: 0.8936 - val_accuracy: 0.7897\n",
      "Epoch 51/100\n",
      "8/8 [==============================] - 0s 61ms/step - loss: 0.0020 - accuracy: 1.0000 - val_loss: 0.9085 - val_accuracy: 0.7897\n",
      "Epoch 52/100\n",
      "8/8 [==============================] - 0s 61ms/step - loss: 0.0019 - accuracy: 1.0000 - val_loss: 0.9046 - val_accuracy: 0.7897\n",
      "Epoch 53/100\n",
      "8/8 [==============================] - 0s 60ms/step - loss: 0.0018 - accuracy: 1.0000 - val_loss: 0.8998 - val_accuracy: 0.7918\n",
      "Epoch 54/100\n",
      "8/8 [==============================] - 0s 62ms/step - loss: 0.0018 - accuracy: 1.0000 - val_loss: 0.9149 - val_accuracy: 0.7897\n",
      "Epoch 55/100\n",
      "8/8 [==============================] - 0s 59ms/step - loss: 0.0017 - accuracy: 1.0000 - val_loss: 0.9114 - val_accuracy: 0.7876\n",
      "Epoch 56/100\n",
      "8/8 [==============================] - 0s 62ms/step - loss: 0.0016 - accuracy: 1.0000 - val_loss: 0.9132 - val_accuracy: 0.7897\n",
      "Epoch 57/100\n",
      "8/8 [==============================] - 0s 62ms/step - loss: 0.0016 - accuracy: 1.0000 - val_loss: 0.9200 - val_accuracy: 0.7876\n",
      "Epoch 58/100\n",
      "8/8 [==============================] - 0s 62ms/step - loss: 0.0015 - accuracy: 1.0000 - val_loss: 0.9273 - val_accuracy: 0.7876\n",
      "Epoch 59/100\n",
      "8/8 [==============================] - 0s 60ms/step - loss: 0.0014 - accuracy: 1.0000 - val_loss: 0.9208 - val_accuracy: 0.7897\n",
      "Epoch 60/100\n",
      "8/8 [==============================] - 0s 62ms/step - loss: 0.0014 - accuracy: 1.0000 - val_loss: 0.9249 - val_accuracy: 0.7897\n",
      "Epoch 61/100\n",
      "8/8 [==============================] - 1s 66ms/step - loss: 0.0013 - accuracy: 1.0000 - val_loss: 0.9338 - val_accuracy: 0.7897\n",
      "Epoch 62/100\n",
      "8/8 [==============================] - 0s 61ms/step - loss: 0.0013 - accuracy: 1.0000 - val_loss: 0.9331 - val_accuracy: 0.7918\n",
      "Epoch 63/100\n",
      "8/8 [==============================] - 0s 60ms/step - loss: 0.0013 - accuracy: 1.0000 - val_loss: 0.9410 - val_accuracy: 0.7876\n",
      "Epoch 64/100\n",
      "8/8 [==============================] - 0s 60ms/step - loss: 0.0013 - accuracy: 1.0000 - val_loss: 0.9329 - val_accuracy: 0.7918\n",
      "Epoch 65/100\n",
      "8/8 [==============================] - 0s 61ms/step - loss: 0.0012 - accuracy: 1.0000 - val_loss: 0.9516 - val_accuracy: 0.7876\n",
      "Epoch 66/100\n",
      "8/8 [==============================] - 0s 60ms/step - loss: 0.0011 - accuracy: 1.0000 - val_loss: 0.9392 - val_accuracy: 0.7876\n",
      "Epoch 67/100\n",
      "8/8 [==============================] - 0s 60ms/step - loss: 0.0011 - accuracy: 1.0000 - val_loss: 0.9454 - val_accuracy: 0.7876\n",
      "Epoch 68/100\n",
      "8/8 [==============================] - 0s 62ms/step - loss: 0.0010 - accuracy: 1.0000 - val_loss: 0.9701 - val_accuracy: 0.7876\n",
      "Epoch 69/100\n",
      "8/8 [==============================] - 0s 62ms/step - loss: 9.4571e-04 - accuracy: 1.0000 - val_loss: 0.9522 - val_accuracy: 0.7918\n",
      "Epoch 70/100\n",
      "8/8 [==============================] - 0s 61ms/step - loss: 8.5721e-04 - accuracy: 1.0000 - val_loss: 0.9608 - val_accuracy: 0.7854\n",
      "Epoch 71/100\n",
      "8/8 [==============================] - 0s 61ms/step - loss: 7.8645e-04 - accuracy: 1.0000 - val_loss: 0.9731 - val_accuracy: 0.7897\n",
      "Epoch 72/100\n",
      "8/8 [==============================] - 0s 61ms/step - loss: 7.2716e-04 - accuracy: 1.0000 - val_loss: 0.9804 - val_accuracy: 0.7897\n",
      "Epoch 73/100\n",
      "8/8 [==============================] - 0s 62ms/step - loss: 6.9111e-04 - accuracy: 1.0000 - val_loss: 0.9883 - val_accuracy: 0.7876\n",
      "Epoch 74/100\n",
      "8/8 [==============================] - 0s 61ms/step - loss: 6.0030e-04 - accuracy: 1.0000 - val_loss: 0.9835 - val_accuracy: 0.7897\n",
      "Epoch 75/100\n",
      "8/8 [==============================] - 0s 60ms/step - loss: 5.4039e-04 - accuracy: 1.0000 - val_loss: 1.0187 - val_accuracy: 0.7854\n",
      "Epoch 76/100\n",
      "8/8 [==============================] - 0s 61ms/step - loss: 4.8523e-04 - accuracy: 1.0000 - val_loss: 1.0066 - val_accuracy: 0.7897\n",
      "Epoch 77/100\n",
      "8/8 [==============================] - 0s 62ms/step - loss: 4.3991e-04 - accuracy: 1.0000 - val_loss: 1.0170 - val_accuracy: 0.7918\n",
      "Epoch 78/100\n",
      "8/8 [==============================] - 0s 60ms/step - loss: 4.0139e-04 - accuracy: 1.0000 - val_loss: 1.0366 - val_accuracy: 0.7918\n",
      "Epoch 79/100\n",
      "8/8 [==============================] - 0s 60ms/step - loss: 3.6902e-04 - accuracy: 1.0000 - val_loss: 1.0350 - val_accuracy: 0.7897\n",
      "Epoch 80/100\n",
      "8/8 [==============================] - 0s 61ms/step - loss: 3.2737e-04 - accuracy: 1.0000 - val_loss: 1.0616 - val_accuracy: 0.7918\n",
      "Epoch 81/100\n",
      "8/8 [==============================] - 0s 60ms/step - loss: 2.9620e-04 - accuracy: 1.0000 - val_loss: 1.0501 - val_accuracy: 0.7918\n",
      "Epoch 82/100\n",
      "8/8 [==============================] - 0s 62ms/step - loss: 2.7178e-04 - accuracy: 1.0000 - val_loss: 1.0778 - val_accuracy: 0.7918\n",
      "Epoch 83/100\n",
      "8/8 [==============================] - 0s 62ms/step - loss: 2.4526e-04 - accuracy: 1.0000 - val_loss: 1.0854 - val_accuracy: 0.7918\n",
      "Epoch 84/100\n",
      "8/8 [==============================] - 1s 66ms/step - loss: 2.1964e-04 - accuracy: 1.0000 - val_loss: 1.0820 - val_accuracy: 0.7897\n",
      "Epoch 85/100\n",
      "8/8 [==============================] - 1s 67ms/step - loss: 2.0128e-04 - accuracy: 1.0000 - val_loss: 1.1052 - val_accuracy: 0.7918\n",
      "Epoch 86/100\n",
      "8/8 [==============================] - 1s 66ms/step - loss: 1.8393e-04 - accuracy: 1.0000 - val_loss: 1.1075 - val_accuracy: 0.7918\n",
      "Epoch 87/100\n",
      "8/8 [==============================] - 1s 65ms/step - loss: 1.6971e-04 - accuracy: 1.0000 - val_loss: 1.1188 - val_accuracy: 0.7897\n",
      "Epoch 88/100\n",
      "8/8 [==============================] - 1s 64ms/step - loss: 1.6090e-04 - accuracy: 1.0000 - val_loss: 1.1330 - val_accuracy: 0.7918\n",
      "Epoch 89/100\n",
      "8/8 [==============================] - 0s 60ms/step - loss: 1.4867e-04 - accuracy: 1.0000 - val_loss: 1.1385 - val_accuracy: 0.7918\n",
      "Epoch 90/100\n",
      "8/8 [==============================] - 0s 62ms/step - loss: 1.3580e-04 - accuracy: 1.0000 - val_loss: 1.1294 - val_accuracy: 0.7940\n",
      "Epoch 91/100\n",
      "8/8 [==============================] - 0s 61ms/step - loss: 1.2381e-04 - accuracy: 1.0000 - val_loss: 1.1550 - val_accuracy: 0.7940\n",
      "Epoch 92/100\n",
      "8/8 [==============================] - 0s 61ms/step - loss: 1.1508e-04 - accuracy: 1.0000 - val_loss: 1.1560 - val_accuracy: 0.7940\n",
      "Epoch 93/100\n",
      "8/8 [==============================] - 0s 60ms/step - loss: 1.0721e-04 - accuracy: 1.0000 - val_loss: 1.1793 - val_accuracy: 0.7940\n",
      "Epoch 94/100\n",
      "8/8 [==============================] - 0s 59ms/step - loss: 1.0099e-04 - accuracy: 1.0000 - val_loss: 1.1744 - val_accuracy: 0.7918\n",
      "Epoch 95/100\n",
      "8/8 [==============================] - 0s 61ms/step - loss: 9.4422e-05 - accuracy: 1.0000 - val_loss: 1.1829 - val_accuracy: 0.7961\n",
      "Epoch 96/100\n",
      "8/8 [==============================] - 1s 64ms/step - loss: 8.8625e-05 - accuracy: 1.0000 - val_loss: 1.1884 - val_accuracy: 0.7961\n",
      "Epoch 97/100\n",
      "8/8 [==============================] - 0s 61ms/step - loss: 8.2282e-05 - accuracy: 1.0000 - val_loss: 1.2009 - val_accuracy: 0.7961\n",
      "Epoch 98/100\n",
      "8/8 [==============================] - 0s 60ms/step - loss: 7.8087e-05 - accuracy: 1.0000 - val_loss: 1.2084 - val_accuracy: 0.7940\n",
      "Epoch 99/100\n",
      "8/8 [==============================] - 0s 62ms/step - loss: 7.4417e-05 - accuracy: 1.0000 - val_loss: 1.2135 - val_accuracy: 0.7961\n",
      "Epoch 100/100\n",
      "8/8 [==============================] - 0s 61ms/step - loss: 7.0993e-05 - accuracy: 1.0000 - val_loss: 1.2146 - val_accuracy: 0.7983\n"
     ]
    }
   ],
   "source": [
    "history_lfw = model_lfw.fit(xlfw_train, ylfw_train, validation_data=(xlfw_val, ylfw_val),batch_size = 64, epochs=100)"
   ]
  },
  {
   "cell_type": "code",
   "execution_count": 56,
   "metadata": {},
   "outputs": [
    {
     "data": {
      "text/plain": [
       "[<matplotlib.lines.Line2D at 0x1da65528d08>]"
      ]
     },
     "execution_count": 56,
     "metadata": {},
     "output_type": "execute_result"
    },
    {
     "data": {
      "image/png": "[encoded data removed]",
      "text/plain": [
       "<Figure size 432x288 with 2 Axes>"
      ]
     },
     "metadata": {
      "needs_background": "light"
     },
     "output_type": "display_data"
    }
   ],
   "source": [
    "# Plotting Cross Entropy Loss and Classification Accuracy for training and val LFW data\n",
    "import matplotlib.pyplot as plt\n",
    "plt.subplot(211)\n",
    "plt.title('Cross Entropy Loss for LFW')\n",
    "plt.plot(history_lfw.history['loss'], color='blue', label='train')\n",
    "plt.plot(history_lfw.history['val_loss'], color='orange', label='test')\n",
    "# plot accuracy\n",
    "plt.subplot(212)\n",
    "plt.title('Classification Accuracy for LFW')\n",
    "plt.plot(history_lfw.history['accuracy'], color='blue', label='train')\n",
    "plt.plot(history_lfw.history['val_accuracy'], color='orange', label='test')"
   ]
  },
  {
   "cell_type": "code",
   "execution_count": 57,
   "metadata": {},
   "outputs": [
    {
     "name": "stdout",
     "output_type": "stream",
     "text": [
      "              precision    recall  f1-score   support\n",
      "\n",
      "           0       0.73      0.62      0.67        13\n",
      "           1       0.82      0.78      0.80        60\n",
      "           2       0.61      0.63      0.62        27\n",
      "           3       0.83      0.92      0.87       146\n",
      "           4       0.80      0.64      0.71        25\n",
      "           5       0.86      0.40      0.55        15\n",
      "           6       0.73      0.75      0.74        36\n",
      "\n",
      "    accuracy                           0.79       322\n",
      "   macro avg       0.77      0.68      0.71       322\n",
      "weighted avg       0.79      0.79      0.79       322\n",
      "\n"
     ]
    }
   ],
   "source": [
    "# Classification Report\n",
    "ylfw_pred = model_lfw.predict_classes(xlfw_test)\n",
    "ylfw_test = np.argmax(ylfw_test,axis=1)\n",
    "print(classification_report(ylfw_test, ylfw_pred))"
   ]
  },
  {
   "cell_type": "code",
   "execution_count": 58,
   "metadata": {},
   "outputs": [
    {
     "name": "stdout",
     "output_type": "stream",
     "text": [
      "Downloading data from https://www.cs.toronto.edu/~kriz/cifar-10-python.tar.gz\n",
      "170500096/170498071 [==============================] - 329s 2us/step\n"
     ]
    }
   ],
   "source": [
    "#Loading the CIFAR10 data set from keras.datasets\n",
    "from tensorflow.keras.datasets import cifar10\n",
    "(train_X, train_y), (test_X, test_y) = cifar10.load_data()"
   ]
  },
  {
   "cell_type": "code",
   "execution_count": 59,
   "metadata": {},
   "outputs": [
    {
     "data": {
      "text/plain": [
       "((50000, 32, 32, 3), (10000, 32, 32, 3))"
      ]
     },
     "execution_count": 59,
     "metadata": {},
     "output_type": "execute_result"
    }
   ],
   "source": [
    "train_X.shape, test_X.shape"
   ]
  },
  {
   "cell_type": "code",
   "execution_count": 60,
   "metadata": {},
   "outputs": [
    {
     "data": {
      "text/plain": [
       "((50000, 1), (10000, 1))"
      ]
     },
     "execution_count": 60,
     "metadata": {},
     "output_type": "execute_result"
    }
   ],
   "source": [
    "train_y.shape, test_y.shape"
   ]
  },
  {
   "cell_type": "code",
   "execution_count": 61,
   "metadata": {},
   "outputs": [],
   "source": [
    "#Implementing one-hot encoding on Training and test data target variables\n",
    "train_y = to_categorical(train_y)\n",
    "test_y = to_categorical(test_y)"
   ]
  },
  {
   "cell_type": "code",
   "execution_count": 62,
   "metadata": {},
   "outputs": [],
   "source": [
    "# Splitting the training data into validation and training data\n",
    "train_X = train_X.astype('float32')\n",
    "test_X = test_X.astype('float32')\n",
    "\n",
    "val_X,train_X = train_X[:9000]/255.0, train_X[9000:]/255.0\n",
    "val_y,train_y = train_y[:9000], train_y[9000:]\n",
    "\n",
    "test_X = test_X/255.0"
   ]
  },
  {
   "cell_type": "code",
   "execution_count": 63,
   "metadata": {},
   "outputs": [],
   "source": [
    "##SELFLEARNING\n",
    "#https://deeplizard.com/learn/video/ZjM_XQa5s6s\n",
    "#When added to a model, max pooling reduces the dimensionality of images by reducing the number of pixels in the output from the previous convolutional layer.\n",
    "#why do we need dropout at all? Why do we need to literally shut-down parts of a neural networks?\n",
    "#The answer to these questions is “to prevent over-fitting”.\n",
    "\n"
   ]
  },
  {
   "cell_type": "code",
   "execution_count": 64,
   "metadata": {},
   "outputs": [],
   "source": [
    "# Building model with convolutional, maxpooling, and dense layers\n",
    "model_cifar = Sequential()\n",
    "model_cifar.add(Conv2D(32, (3, 3), activation='relu',  padding='same', input_shape=(32, 32, 3)))\n",
    "model_cifar.add(Conv2D(32, (3, 3), activation='relu', padding='same'))\n",
    "model_cifar.add(MaxPooling2D((2, 2)))\n",
    "model_cifar.add(Dropout(0.2))\n",
    "model_cifar.add(Conv2D(64, (3, 3), activation='relu', padding='same'))\n",
    "model_cifar.add(Conv2D(64, (3, 3), activation='relu', padding='same'))\n",
    "model_cifar.add(MaxPooling2D((2, 2)))\n",
    "model_cifar.add(Dropout(0.2))\n",
    "model_cifar.add(Conv2D(128, (3, 3), activation='relu', padding='same'))\n",
    "model_cifar.add(Conv2D(128, (3, 3), activation='relu', padding='same'))\n",
    "model_cifar.add(MaxPooling2D((2, 2)))\n",
    "model_cifar.add(Dropout(0.2))\n",
    "model_cifar.add(Flatten())\n",
    "model_cifar.add(Dense(64, activation='relu'))\n",
    "model_cifar.add(Dropout(0.2))\n",
    "model_cifar.add(Dense(10, activation='softmax'))"
   ]
  },
  {
   "cell_type": "code",
   "execution_count": 65,
   "metadata": {},
   "outputs": [],
   "source": [
    "model_cifar.compile(optimizer='adam', loss='categorical_crossentropy', metrics=['accuracy'])"
   ]
  },
  {
   "cell_type": "code",
   "execution_count": 66,
   "metadata": {},
   "outputs": [
    {
     "name": "stdout",
     "output_type": "stream",
     "text": [
      "Epoch 1/50\n",
      "641/641 [==============================] - 66s 103ms/step - loss: 1.7714 - accuracy: 0.3397 - val_loss: 1.3658 - val_accuracy: 0.4946\n",
      "Epoch 2/50\n",
      "641/641 [==============================] - 66s 104ms/step - loss: 1.3261 - accuracy: 0.5192 - val_loss: 1.0892 - val_accuracy: 0.6090\n",
      "Epoch 3/50\n",
      "641/641 [==============================] - 67s 104ms/step - loss: 1.1200 - accuracy: 0.6000 - val_loss: 1.0035 - val_accuracy: 0.6408\n",
      "Epoch 4/50\n",
      "641/641 [==============================] - 67s 104ms/step - loss: 1.0037 - accuracy: 0.6445 - val_loss: 0.8842 - val_accuracy: 0.6812\n",
      "Epoch 5/50\n",
      "641/641 [==============================] - 66s 104ms/step - loss: 0.9076 - accuracy: 0.6813 - val_loss: 0.8237 - val_accuracy: 0.7067\n",
      "Epoch 6/50\n",
      "641/641 [==============================] - 67s 104ms/step - loss: 0.8403 - accuracy: 0.7073 - val_loss: 0.7950 - val_accuracy: 0.7193\n",
      "Epoch 7/50\n",
      "641/641 [==============================] - 67s 104ms/step - loss: 0.7847 - accuracy: 0.7271 - val_loss: 0.8007 - val_accuracy: 0.7218\n",
      "Epoch 8/50\n",
      "641/641 [==============================] - 68s 105ms/step - loss: 0.7352 - accuracy: 0.7433 - val_loss: 0.7337 - val_accuracy: 0.7464\n",
      "Epoch 9/50\n",
      "641/641 [==============================] - 68s 106ms/step - loss: 0.7018 - accuracy: 0.7557 - val_loss: 0.7532 - val_accuracy: 0.7488\n",
      "Epoch 10/50\n",
      "641/641 [==============================] - 67s 104ms/step - loss: 0.6575 - accuracy: 0.7704 - val_loss: 0.6598 - val_accuracy: 0.7693\n",
      "Epoch 11/50\n",
      "641/641 [==============================] - 67s 104ms/step - loss: 0.6270 - accuracy: 0.7820 - val_loss: 0.6533 - val_accuracy: 0.7751\n",
      "Epoch 12/50\n",
      "641/641 [==============================] - 67s 104ms/step - loss: 0.6054 - accuracy: 0.7885 - val_loss: 0.6664 - val_accuracy: 0.7693\n",
      "Epoch 13/50\n",
      "641/641 [==============================] - 67s 104ms/step - loss: 0.5803 - accuracy: 0.7975 - val_loss: 0.6417 - val_accuracy: 0.7808\n",
      "Epoch 14/50\n",
      "641/641 [==============================] - 67s 104ms/step - loss: 0.5566 - accuracy: 0.8050 - val_loss: 0.6891 - val_accuracy: 0.7683\n",
      "Epoch 15/50\n",
      "641/641 [==============================] - 67s 104ms/step - loss: 0.5410 - accuracy: 0.8113 - val_loss: 0.6640 - val_accuracy: 0.7762\n",
      "Epoch 16/50\n",
      "641/641 [==============================] - 67s 104ms/step - loss: 0.5212 - accuracy: 0.8180 - val_loss: 0.6277 - val_accuracy: 0.7827\n",
      "Epoch 17/50\n",
      "641/641 [==============================] - 67s 104ms/step - loss: 0.5074 - accuracy: 0.8224 - val_loss: 0.6055 - val_accuracy: 0.7927\n",
      "Epoch 18/50\n",
      "641/641 [==============================] - 67s 104ms/step - loss: 0.4888 - accuracy: 0.8276 - val_loss: 0.6477 - val_accuracy: 0.7850\n",
      "Epoch 19/50\n",
      "641/641 [==============================] - 67s 104ms/step - loss: 0.4801 - accuracy: 0.8318 - val_loss: 0.6233 - val_accuracy: 0.7991\n",
      "Epoch 20/50\n",
      "641/641 [==============================] - 67s 104ms/step - loss: 0.4697 - accuracy: 0.8348 - val_loss: 0.6350 - val_accuracy: 0.7941\n",
      "Epoch 21/50\n",
      "641/641 [==============================] - 67s 104ms/step - loss: 0.4573 - accuracy: 0.8400 - val_loss: 0.6140 - val_accuracy: 0.8037\n",
      "Epoch 22/50\n",
      "641/641 [==============================] - 67s 104ms/step - loss: 0.4451 - accuracy: 0.8434 - val_loss: 0.6290 - val_accuracy: 0.8003\n",
      "Epoch 23/50\n",
      "641/641 [==============================] - 67s 104ms/step - loss: 0.4286 - accuracy: 0.8497 - val_loss: 0.6407 - val_accuracy: 0.7990\n",
      "Epoch 24/50\n",
      "641/641 [==============================] - 67s 105ms/step - loss: 0.4261 - accuracy: 0.8518 - val_loss: 0.6620 - val_accuracy: 0.7926\n",
      "Epoch 25/50\n",
      "641/641 [==============================] - 67s 104ms/step - loss: 0.4227 - accuracy: 0.8528 - val_loss: 0.6490 - val_accuracy: 0.7948\n",
      "Epoch 26/50\n",
      "641/641 [==============================] - 67s 104ms/step - loss: 0.4140 - accuracy: 0.8543 - val_loss: 0.6624 - val_accuracy: 0.7980\n",
      "Epoch 27/50\n",
      "641/641 [==============================] - 67s 105ms/step - loss: 0.3994 - accuracy: 0.8592 - val_loss: 0.6605 - val_accuracy: 0.7977\n",
      "Epoch 28/50\n",
      "641/641 [==============================] - 67s 104ms/step - loss: 0.3875 - accuracy: 0.8630 - val_loss: 0.6193 - val_accuracy: 0.8043\n",
      "Epoch 29/50\n",
      "641/641 [==============================] - 67s 104ms/step - loss: 0.3841 - accuracy: 0.8642 - val_loss: 0.6774 - val_accuracy: 0.7900\n",
      "Epoch 30/50\n",
      "641/641 [==============================] - 67s 104ms/step - loss: 0.3758 - accuracy: 0.8654 - val_loss: 0.6523 - val_accuracy: 0.8043\n",
      "Epoch 31/50\n",
      "641/641 [==============================] - 67s 104ms/step - loss: 0.3767 - accuracy: 0.8666 - val_loss: 0.6578 - val_accuracy: 0.8033\n",
      "Epoch 32/50\n",
      "641/641 [==============================] - 67s 104ms/step - loss: 0.3721 - accuracy: 0.8700 - val_loss: 0.6309 - val_accuracy: 0.8017\n",
      "Epoch 33/50\n",
      "641/641 [==============================] - 67s 104ms/step - loss: 0.3605 - accuracy: 0.8721 - val_loss: 0.6833 - val_accuracy: 0.7939\n",
      "Epoch 34/50\n",
      "641/641 [==============================] - 67s 105ms/step - loss: 0.3485 - accuracy: 0.8777 - val_loss: 0.6689 - val_accuracy: 0.8052\n",
      "Epoch 35/50\n",
      "641/641 [==============================] - 67s 105ms/step - loss: 0.3499 - accuracy: 0.8770 - val_loss: 0.7075 - val_accuracy: 0.7929\n",
      "Epoch 36/50\n",
      "641/641 [==============================] - 67s 104ms/step - loss: 0.3408 - accuracy: 0.8793 - val_loss: 0.6757 - val_accuracy: 0.8006\n",
      "Epoch 37/50\n",
      "641/641 [==============================] - 67s 104ms/step - loss: 0.3408 - accuracy: 0.8802 - val_loss: 0.6705 - val_accuracy: 0.7978\n",
      "Epoch 38/50\n",
      "641/641 [==============================] - 67s 104ms/step - loss: 0.3301 - accuracy: 0.8827 - val_loss: 0.6880 - val_accuracy: 0.8042\n",
      "Epoch 39/50\n",
      "641/641 [==============================] - 66s 104ms/step - loss: 0.3331 - accuracy: 0.8846 - val_loss: 0.6751 - val_accuracy: 0.8020\n",
      "Epoch 40/50\n",
      "641/641 [==============================] - 67s 104ms/step - loss: 0.3256 - accuracy: 0.8860 - val_loss: 0.6633 - val_accuracy: 0.8030\n",
      "Epoch 41/50\n",
      "641/641 [==============================] - 67s 104ms/step - loss: 0.3186 - accuracy: 0.8870 - val_loss: 0.6707 - val_accuracy: 0.7999\n",
      "Epoch 42/50\n",
      "641/641 [==============================] - 67s 104ms/step - loss: 0.3170 - accuracy: 0.8879 - val_loss: 0.6740 - val_accuracy: 0.8107\n",
      "Epoch 43/50\n",
      "641/641 [==============================] - 67s 104ms/step - loss: 0.3100 - accuracy: 0.8917 - val_loss: 0.7289 - val_accuracy: 0.7938\n",
      "Epoch 44/50\n",
      "641/641 [==============================] - 67s 104ms/step - loss: 0.3058 - accuracy: 0.8931 - val_loss: 0.6929 - val_accuracy: 0.8050\n",
      "Epoch 45/50\n",
      "641/641 [==============================] - 66s 104ms/step - loss: 0.3044 - accuracy: 0.8935 - val_loss: 0.6918 - val_accuracy: 0.8059\n",
      "Epoch 46/50\n",
      "641/641 [==============================] - 66s 104ms/step - loss: 0.3069 - accuracy: 0.8922 - val_loss: 0.7067 - val_accuracy: 0.8022\n",
      "Epoch 47/50\n",
      "641/641 [==============================] - 67s 104ms/step - loss: 0.2999 - accuracy: 0.8944 - val_loss: 0.6765 - val_accuracy: 0.8067\n",
      "Epoch 48/50\n",
      "641/641 [==============================] - 66s 104ms/step - loss: 0.3017 - accuracy: 0.8958 - val_loss: 0.6962 - val_accuracy: 0.8023\n",
      "Epoch 49/50\n",
      "641/641 [==============================] - 67s 104ms/step - loss: 0.2973 - accuracy: 0.8952 - val_loss: 0.7419 - val_accuracy: 0.8044\n",
      "Epoch 50/50\n",
      "641/641 [==============================] - 66s 104ms/step - loss: 0.2889 - accuracy: 0.8991 - val_loss: 0.7184 - val_accuracy: 0.8060\n"
     ]
    }
   ],
   "source": [
    "hist_train = model_cifar.fit(train_X, train_y, batch_size=64,validation_data=(val_X, val_y), epochs=50)"
   ]
  },
  {
   "cell_type": "code",
   "execution_count": 67,
   "metadata": {},
   "outputs": [
    {
     "name": "stdout",
     "output_type": "stream",
     "text": [
      "              precision    recall  f1-score   support\n",
      "\n",
      "           0       0.85      0.81      0.83      1000\n",
      "           1       0.93      0.88      0.90      1000\n",
      "           2       0.77      0.66      0.71      1000\n",
      "           3       0.68      0.60      0.64      1000\n",
      "           4       0.70      0.84      0.76      1000\n",
      "           5       0.79      0.67      0.72      1000\n",
      "           6       0.74      0.90      0.81      1000\n",
      "           7       0.85      0.84      0.85      1000\n",
      "           8       0.87      0.89      0.88      1000\n",
      "           9       0.85      0.90      0.87      1000\n",
      "\n",
      "    accuracy                           0.80     10000\n",
      "   macro avg       0.80      0.80      0.80     10000\n",
      "weighted avg       0.80      0.80      0.80     10000\n",
      "\n"
     ]
    }
   ],
   "source": [
    "# Classification Report\n",
    "cifar_pred = model_cifar.predict_classes(test_X)\n",
    "test_y = np.argmax(test_y,axis=1)\n",
    "print(classification_report(test_y, cifar_pred))"
   ]
  },
  {
   "cell_type": "code",
   "execution_count": 68,
   "metadata": {},
   "outputs": [
    {
     "data": {
      "text/plain": [
       "[<matplotlib.lines.Line2D at 0x1da097d8848>]"
      ]
     },
     "execution_count": 68,
     "metadata": {},
     "output_type": "execute_result"
    },
    {
     "data": {
      "image/png": "[encoded data removed]",
      "text/plain": [
       "<Figure size 432x288 with 2 Axes>"
      ]
     },
     "metadata": {
      "needs_background": "light"
     },
     "output_type": "display_data"
    }
   ],
   "source": [
    "# Plotting Cross Entropy Loss and Classification Accuracy for CIFAR-10\n",
    "import matplotlib.pyplot as plt\n",
    "plt.subplot(211)\n",
    "plt.title('Cross Entropy Loss')\n",
    "plt.plot(hist_train.history['loss'], color='blue', label='train')\n",
    "plt.plot(hist_train.history['val_loss'], color='orange', label='test')\n",
    "# plot accuracy\n",
    "plt.subplot(212)\n",
    "plt.title('Classification Accuracy')\n",
    "plt.plot(hist_train.history['accuracy'], color='blue', label='train')\n",
    "plt.plot(hist_train.history['val_accuracy'], color='orange', label='test')"
   ]
  },
  {
   "cell_type": "code",
   "execution_count": 85,
   "metadata": {},
   "outputs": [],
   "source": [
    "#PART3: UNET on OASIS DATASET"
   ]
  },
  {
   "cell_type": "code",
   "execution_count": 78,
   "metadata": {},
   "outputs": [
    {
     "name": "stdout",
     "output_type": "stream",
     "text": [
      "Collecting keras\n",
      "  Downloading Keras-2.4.3-py2.py3-none-any.whl (36 kB)\n",
      "Requirement already satisfied: pyyaml in c:\\programdata\\anaconda3\\lib\\site-packages (from keras) (5.3)\n",
      "Requirement already satisfied: numpy>=1.9.1 in c:\\programdata\\anaconda3\\lib\\site-packages (from keras) (1.18.1)\n",
      "Requirement already satisfied: scipy>=0.14 in c:\\programdata\\anaconda3\\lib\\site-packages (from keras) (1.4.1)\n",
      "Requirement already satisfied: h5py in c:\\programdata\\anaconda3\\lib\\site-packages (from keras) (2.10.0)\n",
      "Requirement already satisfied: six in c:\\programdata\\anaconda3\\lib\\site-packages (from h5py->keras) (1.14.0)\n",
      "Installing collected packages: keras\n",
      "Successfully installed keras-2.4.3\n",
      "Note: you may need to restart the kernel to use updated packages.\n"
     ]
    }
   ],
   "source": [
    "pip install keras"
   ]
  },
  {
   "cell_type": "code",
   "execution_count": 79,
   "metadata": {},
   "outputs": [],
   "source": [
    "from tensorflow import keras\n",
    "from tensorflow.keras import layers\n",
    "from tensorflow.keras import models"
   ]
  },
  {
   "cell_type": "code",
   "execution_count": 80,
   "metadata": {},
   "outputs": [],
   "source": [
    "import os\n",
    "import random\n",
    "import pandas as pd\n",
    "import numpy as np\n",
    "import matplotlib.pyplot as plt\n",
    "plt.style.use(\"ggplot\")\n",
    "%matplotlib inline\n",
    "\n",
    "from tqdm import tqdm_notebook, tnrange\n",
    "from itertools import chain\n",
    "from skimage.io import imread, imshow, concatenate_images\n",
    "from skimage.transform import resize\n",
    "from skimage.morphology import label\n",
    "from sklearn.model_selection import train_test_split\n",
    "\n",
    "import tensorflow as tf\n",
    "\n",
    "from keras.models import Model, load_model\n",
    "from keras.layers import Input, BatchNormalization, Activation, Dense, Dropout\n",
    "from keras.layers.core import Lambda, RepeatVector, Reshape\n",
    "from keras.layers.convolutional import Conv2D, Conv2DTranspose\n",
    "from keras.layers.pooling import MaxPooling2D, GlobalMaxPool2D\n",
    "from keras.layers.merge import concatenate, add\n",
    "from keras.callbacks import EarlyStopping, ModelCheckpoint, ReduceLROnPlateau\n",
    "from keras.optimizers import Adam\n",
    "from keras.preprocessing.image import ImageDataGenerator, array_to_img, img_to_array, load_img\n",
    "from keras.utils import to_categorical"
   ]
  },
  {
   "cell_type": "code",
   "execution_count": 81,
   "metadata": {},
   "outputs": [],
   "source": [
    "# Initialising the compression dimensions\n",
    "img_width = 128\n",
    "img_height = 128\n",
    "border = 5"
   ]
  },
  {
   "cell_type": "code",
   "execution_count": 82,
   "metadata": {},
   "outputs": [
    {
     "name": "stdout",
     "output_type": "stream",
     "text": [
      "No. of images in training folder=  9664\n",
      "No. of images in test folder=  544\n",
      "No. of images in validation folder=  1120\n"
     ]
    }
   ],
   "source": [
    "# Extracting the file names of the images and masks in training, test and validation folders \n",
    "ids_train = next(os.walk(\"H:/svn/keras_png_slices_data/keras_png_slices_train\"))[2] \n",
    "ids_test = next(os.walk(\"H:/svn/keras_png_slices_data/keras_png_slices_test\"))[2]\n",
    "ids_val = next(os.walk(\"H:/svn/keras_png_slices_data/keras_png_slices_validate\"))[2]\n",
    "ids_seg_train = next(os.walk(\"H:/svn/keras_png_slices_data/keras_png_slices_seg_train\"))[2]\n",
    "ids_seg_test = next(os.walk(\"H:/svn/keras_png_slices_data/keras_png_slices_seg_test\"))[2]\n",
    "ids_seg_val = next(os.walk(\"H:/svn/keras_png_slices_data/keras_png_slices_seg_validate\"))[2]\n",
    "print(\"No. of images in training folder= \", len(ids_train))\n",
    "print(\"No. of images in test folder= \", len(ids_test))\n",
    "print(\"No. of images in validation folder= \", len(ids_val))\n"
   ]
  },
  {
   "cell_type": "code",
   "execution_count": 83,
   "metadata": {},
   "outputs": [],
   "source": [
    "# Function for loading images from the folders\n",
    "def loading_img(inp_path,ids):\n",
    "    X = np.zeros((len(ids), img_height, img_width, 1), dtype=np.float32)\n",
    "    for n, id_ in tqdm_notebook(enumerate(ids), total=len(ids)):\n",
    "        # Load images\n",
    "        img = load_img(inp_path+id_, color_mode = 'grayscale')\n",
    "        x_img = img_to_array(img)\n",
    "        x_img = resize(x_img, (128, 128, 1), mode = 'constant', preserve_range = True)\n",
    "        X[n] = x_img/255\n",
    "        \n",
    "    return X"
   ]
  },
  {
   "cell_type": "code",
   "execution_count": 84,
   "metadata": {},
   "outputs": [],
   "source": [
    "def loading_seg(inp_path,ids):\n",
    "    X = np.zeros((len(ids), img_height, img_width, 1), dtype=np.uint8)\n",
    "    for n, id_ in tqdm_notebook(enumerate(ids), total=len(ids)):\n",
    "        # Load images\n",
    "        img = load_img(inp_path+id_, color_mode = 'grayscale')\n",
    "        x_img = img_to_array(img)\n",
    "        x_img = resize(x_img, (128, 128, 1), mode = 'constant', preserve_range = True)\n",
    "        X[n] = x_img\n",
    "        \n",
    "    return X"
   ]
  },
  {
   "cell_type": "code",
   "execution_count": 86,
   "metadata": {},
   "outputs": [
    {
     "name": "stderr",
     "output_type": "stream",
     "text": [
      "C:\\ProgramData\\Anaconda3\\lib\\site-packages\\ipykernel_launcher.py:4: TqdmDeprecationWarning: This function will be removed in tqdm==5.0.0\n",
      "Please use `tqdm.notebook.tqdm` instead of `tqdm.tqdm_notebook`\n",
      "  after removing the cwd from sys.path.\n"
     ]
    },
    {
     "data": {
      "application/vnd.jupyter.widget-view+json": {
       "model_id": "9d81f300ed184825922427dccc2fc432",
       "version_major": 2,
       "version_minor": 0
      },
      "text/plain": [
       "HBox(children=(FloatProgress(value=0.0, max=9664.0), HTML(value='')))"
      ]
     },
     "metadata": {},
     "output_type": "display_data"
    },
    {
     "name": "stdout",
     "output_type": "stream",
     "text": [
      "\n"
     ]
    }
   ],
   "source": [
    "# Loading the images and the masks for the training data set\n",
    "XOasis_train= loading_img(\"H:/svn/keras_png_slices_data/keras_png_slices_train/\",ids_train)"
   ]
  },
  {
   "cell_type": "code",
   "execution_count": 89,
   "metadata": {},
   "outputs": [
    {
     "name": "stderr",
     "output_type": "stream",
     "text": [
      "C:\\ProgramData\\Anaconda3\\lib\\site-packages\\ipykernel_launcher.py:3: TqdmDeprecationWarning: This function will be removed in tqdm==5.0.0\n",
      "Please use `tqdm.notebook.tqdm` instead of `tqdm.tqdm_notebook`\n",
      "  This is separate from the ipykernel package so we can avoid doing imports until\n"
     ]
    },
    {
     "data": {
      "application/vnd.jupyter.widget-view+json": {
       "model_id": "9d5ede27c433427897b42e9a000bd11c",
       "version_major": 2,
       "version_minor": 0
      },
      "text/plain": [
       "HBox(children=(FloatProgress(value=0.0, max=9664.0), HTML(value='')))"
      ]
     },
     "metadata": {},
     "output_type": "display_data"
    },
    {
     "name": "stdout",
     "output_type": "stream",
     "text": [
      "\n"
     ]
    }
   ],
   "source": [
    "yOasis_train= loading_seg(\"H:/svn/keras_png_slices_data/keras_png_slices_seg_train/\",ids_seg_train)   "
   ]
  },
  {
   "cell_type": "code",
   "execution_count": null,
   "metadata": {},
   "outputs": [],
   "source": []
  }
 ],
 "metadata": {
  "kernelspec": {
   "display_name": "Python 3",
   "language": "python",
   "name": "python3"
  },
  "language_info": {
   "codemirror_mode": {
    "name": "ipython",
    "version": 3
   },
   "file_extension": ".py",
   "mimetype": "text/x-python",
   "name": "python",
   "nbconvert_exporter": "python",
   "pygments_lexer": "ipython3",
   "version": "3.7.6"
  }
 },
 "nbformat": 4,
 "nbformat_minor": 4
}
